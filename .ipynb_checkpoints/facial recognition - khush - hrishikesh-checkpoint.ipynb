{
 "cells": [
  {
   "cell_type": "code",
   "execution_count": 93,
   "id": "a2a7895b-87f8-4330-a229-98af08c171ed",
   "metadata": {},
   "outputs": [
    {
     "name": "stdout",
     "output_type": "stream",
     "text": [
      "Collecting jupyterthemesNote: you may need to restart the kernel to use updated packages.\n",
      "\n",
      "  Downloading jupyterthemes-0.20.0-py2.py3-none-any.whl.metadata (1.0 kB)\n",
      "Requirement already satisfied: jupyter-core in c:\\users\\hrish\\anaconda3\\lib\\site-packages (from jupyterthemes) (5.5.0)\n",
      "Requirement already satisfied: notebook>=5.6.0 in c:\\users\\hrish\\anaconda3\\lib\\site-packages (from jupyterthemes) (7.0.8)\n",
      "Requirement already satisfied: ipython>=5.4.1 in c:\\users\\hrish\\anaconda3\\lib\\site-packages (from jupyterthemes) (8.20.0)\n",
      "Requirement already satisfied: matplotlib>=1.4.3 in c:\\users\\hrish\\anaconda3\\lib\\site-packages (from jupyterthemes) (3.8.0)\n",
      "Collecting lesscpy>=0.11.2 (from jupyterthemes)\n",
      "  Downloading lesscpy-0.15.1-py2.py3-none-any.whl.metadata (6.0 kB)\n",
      "Requirement already satisfied: decorator in c:\\users\\hrish\\anaconda3\\lib\\site-packages (from ipython>=5.4.1->jupyterthemes) (5.1.1)\n",
      "Requirement already satisfied: jedi>=0.16 in c:\\users\\hrish\\anaconda3\\lib\\site-packages (from ipython>=5.4.1->jupyterthemes) (0.18.1)\n",
      "Requirement already satisfied: matplotlib-inline in c:\\users\\hrish\\anaconda3\\lib\\site-packages (from ipython>=5.4.1->jupyterthemes) (0.1.6)\n",
      "Requirement already satisfied: prompt-toolkit<3.1.0,>=3.0.41 in c:\\users\\hrish\\anaconda3\\lib\\site-packages (from ipython>=5.4.1->jupyterthemes) (3.0.43)\n",
      "Requirement already satisfied: pygments>=2.4.0 in c:\\users\\hrish\\anaconda3\\lib\\site-packages (from ipython>=5.4.1->jupyterthemes) (2.15.1)\n",
      "Requirement already satisfied: stack-data in c:\\users\\hrish\\anaconda3\\lib\\site-packages (from ipython>=5.4.1->jupyterthemes) (0.2.0)\n",
      "Requirement already satisfied: traitlets>=5 in c:\\users\\hrish\\anaconda3\\lib\\site-packages (from ipython>=5.4.1->jupyterthemes) (5.7.1)\n",
      "Requirement already satisfied: colorama in c:\\users\\hrish\\anaconda3\\lib\\site-packages (from ipython>=5.4.1->jupyterthemes) (0.4.6)\n",
      "Requirement already satisfied: ply in c:\\users\\hrish\\anaconda3\\lib\\site-packages (from lesscpy>=0.11.2->jupyterthemes) (3.11)\n",
      "Requirement already satisfied: contourpy>=1.0.1 in c:\\users\\hrish\\anaconda3\\lib\\site-packages (from matplotlib>=1.4.3->jupyterthemes) (1.2.0)\n",
      "Requirement already satisfied: cycler>=0.10 in c:\\users\\hrish\\anaconda3\\lib\\site-packages (from matplotlib>=1.4.3->jupyterthemes) (0.11.0)\n",
      "Requirement already satisfied: fonttools>=4.22.0 in c:\\users\\hrish\\anaconda3\\lib\\site-packages (from matplotlib>=1.4.3->jupyterthemes) (4.25.0)\n",
      "Requirement already satisfied: kiwisolver>=1.0.1 in c:\\users\\hrish\\anaconda3\\lib\\site-packages (from matplotlib>=1.4.3->jupyterthemes) (1.4.4)\n",
      "Requirement already satisfied: numpy<2,>=1.21 in c:\\users\\hrish\\anaconda3\\lib\\site-packages (from matplotlib>=1.4.3->jupyterthemes) (1.26.4)\n",
      "Requirement already satisfied: packaging>=20.0 in c:\\users\\hrish\\anaconda3\\lib\\site-packages (from matplotlib>=1.4.3->jupyterthemes) (23.1)\n",
      "Requirement already satisfied: pillow>=6.2.0 in c:\\users\\hrish\\anaconda3\\lib\\site-packages (from matplotlib>=1.4.3->jupyterthemes) (10.2.0)\n",
      "Requirement already satisfied: pyparsing>=2.3.1 in c:\\users\\hrish\\anaconda3\\lib\\site-packages (from matplotlib>=1.4.3->jupyterthemes) (3.0.9)\n",
      "Requirement already satisfied: python-dateutil>=2.7 in c:\\users\\hrish\\anaconda3\\lib\\site-packages (from matplotlib>=1.4.3->jupyterthemes) (2.8.2)\n",
      "Requirement already satisfied: jupyter-server<3,>=2.4.0 in c:\\users\\hrish\\anaconda3\\lib\\site-packages (from notebook>=5.6.0->jupyterthemes) (2.10.0)\n",
      "Requirement already satisfied: jupyterlab-server<3,>=2.22.1 in c:\\users\\hrish\\anaconda3\\lib\\site-packages (from notebook>=5.6.0->jupyterthemes) (2.25.1)\n",
      "Requirement already satisfied: jupyterlab<4.1,>=4.0.2 in c:\\users\\hrish\\anaconda3\\lib\\site-packages (from notebook>=5.6.0->jupyterthemes) (4.0.11)\n",
      "Requirement already satisfied: notebook-shim<0.3,>=0.2 in c:\\users\\hrish\\anaconda3\\lib\\site-packages (from notebook>=5.6.0->jupyterthemes) (0.2.3)\n",
      "Requirement already satisfied: tornado>=6.2.0 in c:\\users\\hrish\\anaconda3\\lib\\site-packages (from notebook>=5.6.0->jupyterthemes) (6.3.3)\n",
      "Requirement already satisfied: platformdirs>=2.5 in c:\\users\\hrish\\anaconda3\\lib\\site-packages (from jupyter-core->jupyterthemes) (3.10.0)\n",
      "Requirement already satisfied: pywin32>=300 in c:\\users\\hrish\\anaconda3\\lib\\site-packages (from jupyter-core->jupyterthemes) (305.1)\n",
      "Requirement already satisfied: parso<0.9.0,>=0.8.0 in c:\\users\\hrish\\anaconda3\\lib\\site-packages (from jedi>=0.16->ipython>=5.4.1->jupyterthemes) (0.8.3)\n",
      "Requirement already satisfied: anyio>=3.1.0 in c:\\users\\hrish\\anaconda3\\lib\\site-packages (from jupyter-server<3,>=2.4.0->notebook>=5.6.0->jupyterthemes) (4.2.0)\n",
      "Requirement already satisfied: argon2-cffi in c:\\users\\hrish\\anaconda3\\lib\\site-packages (from jupyter-server<3,>=2.4.0->notebook>=5.6.0->jupyterthemes) (21.3.0)\n",
      "Requirement already satisfied: jinja2 in c:\\users\\hrish\\anaconda3\\lib\\site-packages (from jupyter-server<3,>=2.4.0->notebook>=5.6.0->jupyterthemes) (3.1.3)\n",
      "Requirement already satisfied: jupyter-client>=7.4.4 in c:\\users\\hrish\\anaconda3\\lib\\site-packages (from jupyter-server<3,>=2.4.0->notebook>=5.6.0->jupyterthemes) (8.6.0)\n",
      "Requirement already satisfied: jupyter-events>=0.6.0 in c:\\users\\hrish\\anaconda3\\lib\\site-packages (from jupyter-server<3,>=2.4.0->notebook>=5.6.0->jupyterthemes) (0.8.0)\n",
      "Requirement already satisfied: jupyter-server-terminals in c:\\users\\hrish\\anaconda3\\lib\\site-packages (from jupyter-server<3,>=2.4.0->notebook>=5.6.0->jupyterthemes) (0.4.4)\n",
      "Requirement already satisfied: nbconvert>=6.4.4 in c:\\users\\hrish\\anaconda3\\lib\\site-packages (from jupyter-server<3,>=2.4.0->notebook>=5.6.0->jupyterthemes) (7.10.0)\n",
      "Requirement already satisfied: nbformat>=5.3.0 in c:\\users\\hrish\\anaconda3\\lib\\site-packages (from jupyter-server<3,>=2.4.0->notebook>=5.6.0->jupyterthemes) (5.9.2)\n",
      "Requirement already satisfied: overrides in c:\\users\\hrish\\anaconda3\\lib\\site-packages (from jupyter-server<3,>=2.4.0->notebook>=5.6.0->jupyterthemes) (7.4.0)\n",
      "Requirement already satisfied: prometheus-client in c:\\users\\hrish\\anaconda3\\lib\\site-packages (from jupyter-server<3,>=2.4.0->notebook>=5.6.0->jupyterthemes) (0.14.1)\n",
      "Requirement already satisfied: pywinpty in c:\\users\\hrish\\anaconda3\\lib\\site-packages (from jupyter-server<3,>=2.4.0->notebook>=5.6.0->jupyterthemes) (2.0.10)\n",
      "Requirement already satisfied: pyzmq>=24 in c:\\users\\hrish\\anaconda3\\lib\\site-packages (from jupyter-server<3,>=2.4.0->notebook>=5.6.0->jupyterthemes) (25.1.2)\n",
      "Requirement already satisfied: send2trash>=1.8.2 in c:\\users\\hrish\\anaconda3\\lib\\site-packages (from jupyter-server<3,>=2.4.0->notebook>=5.6.0->jupyterthemes) (1.8.2)\n",
      "Requirement already satisfied: terminado>=0.8.3 in c:\\users\\hrish\\anaconda3\\lib\\site-packages (from jupyter-server<3,>=2.4.0->notebook>=5.6.0->jupyterthemes) (0.17.1)\n",
      "Requirement already satisfied: websocket-client in c:\\users\\hrish\\anaconda3\\lib\\site-packages (from jupyter-server<3,>=2.4.0->notebook>=5.6.0->jupyterthemes) (0.58.0)\n",
      "Requirement already satisfied: async-lru>=1.0.0 in c:\\users\\hrish\\anaconda3\\lib\\site-packages (from jupyterlab<4.1,>=4.0.2->notebook>=5.6.0->jupyterthemes) (2.0.4)\n",
      "Requirement already satisfied: ipykernel in c:\\users\\hrish\\anaconda3\\lib\\site-packages (from jupyterlab<4.1,>=4.0.2->notebook>=5.6.0->jupyterthemes) (6.28.0)\n",
      "Requirement already satisfied: jupyter-lsp>=2.0.0 in c:\\users\\hrish\\anaconda3\\lib\\site-packages (from jupyterlab<4.1,>=4.0.2->notebook>=5.6.0->jupyterthemes) (2.2.0)\n",
      "Requirement already satisfied: babel>=2.10 in c:\\users\\hrish\\anaconda3\\lib\\site-packages (from jupyterlab-server<3,>=2.22.1->notebook>=5.6.0->jupyterthemes) (2.11.0)\n",
      "Requirement already satisfied: json5>=0.9.0 in c:\\users\\hrish\\anaconda3\\lib\\site-packages (from jupyterlab-server<3,>=2.22.1->notebook>=5.6.0->jupyterthemes) (0.9.6)\n",
      "Requirement already satisfied: jsonschema>=4.18.0 in c:\\users\\hrish\\anaconda3\\lib\\site-packages (from jupyterlab-server<3,>=2.22.1->notebook>=5.6.0->jupyterthemes) (4.19.2)\n",
      "Requirement already satisfied: requests>=2.31 in c:\\users\\hrish\\anaconda3\\lib\\site-packages (from jupyterlab-server<3,>=2.22.1->notebook>=5.6.0->jupyterthemes) (2.31.0)\n",
      "Requirement already satisfied: wcwidth in c:\\users\\hrish\\anaconda3\\lib\\site-packages (from prompt-toolkit<3.1.0,>=3.0.41->ipython>=5.4.1->jupyterthemes) (0.2.5)\n",
      "Requirement already satisfied: six>=1.5 in c:\\users\\hrish\\anaconda3\\lib\\site-packages (from python-dateutil>=2.7->matplotlib>=1.4.3->jupyterthemes) (1.16.0)\n",
      "Requirement already satisfied: executing in c:\\users\\hrish\\anaconda3\\lib\\site-packages (from stack-data->ipython>=5.4.1->jupyterthemes) (0.8.3)\n",
      "Requirement already satisfied: asttokens in c:\\users\\hrish\\anaconda3\\lib\\site-packages (from stack-data->ipython>=5.4.1->jupyterthemes) (2.0.5)\n",
      "Requirement already satisfied: pure-eval in c:\\users\\hrish\\anaconda3\\lib\\site-packages (from stack-data->ipython>=5.4.1->jupyterthemes) (0.2.2)\n",
      "Requirement already satisfied: idna>=2.8 in c:\\users\\hrish\\anaconda3\\lib\\site-packages (from anyio>=3.1.0->jupyter-server<3,>=2.4.0->notebook>=5.6.0->jupyterthemes) (3.4)\n",
      "Requirement already satisfied: sniffio>=1.1 in c:\\users\\hrish\\anaconda3\\lib\\site-packages (from anyio>=3.1.0->jupyter-server<3,>=2.4.0->notebook>=5.6.0->jupyterthemes) (1.3.0)\n",
      "Requirement already satisfied: pytz>=2015.7 in c:\\users\\hrish\\anaconda3\\lib\\site-packages (from babel>=2.10->jupyterlab-server<3,>=2.22.1->notebook>=5.6.0->jupyterthemes) (2023.3.post1)\n",
      "Requirement already satisfied: MarkupSafe>=2.0 in c:\\users\\hrish\\anaconda3\\lib\\site-packages (from jinja2->jupyter-server<3,>=2.4.0->notebook>=5.6.0->jupyterthemes) (2.1.3)\n",
      "Requirement already satisfied: attrs>=22.2.0 in c:\\users\\hrish\\anaconda3\\lib\\site-packages (from jsonschema>=4.18.0->jupyterlab-server<3,>=2.22.1->notebook>=5.6.0->jupyterthemes) (23.1.0)\n",
      "Requirement already satisfied: jsonschema-specifications>=2023.03.6 in c:\\users\\hrish\\anaconda3\\lib\\site-packages (from jsonschema>=4.18.0->jupyterlab-server<3,>=2.22.1->notebook>=5.6.0->jupyterthemes) (2023.7.1)\n",
      "Requirement already satisfied: referencing>=0.28.4 in c:\\users\\hrish\\anaconda3\\lib\\site-packages (from jsonschema>=4.18.0->jupyterlab-server<3,>=2.22.1->notebook>=5.6.0->jupyterthemes) (0.30.2)\n",
      "Requirement already satisfied: rpds-py>=0.7.1 in c:\\users\\hrish\\anaconda3\\lib\\site-packages (from jsonschema>=4.18.0->jupyterlab-server<3,>=2.22.1->notebook>=5.6.0->jupyterthemes) (0.10.6)\n",
      "Requirement already satisfied: python-json-logger>=2.0.4 in c:\\users\\hrish\\anaconda3\\lib\\site-packages (from jupyter-events>=0.6.0->jupyter-server<3,>=2.4.0->notebook>=5.6.0->jupyterthemes) (2.0.7)\n",
      "Requirement already satisfied: pyyaml>=5.3 in c:\\users\\hrish\\anaconda3\\lib\\site-packages (from jupyter-events>=0.6.0->jupyter-server<3,>=2.4.0->notebook>=5.6.0->jupyterthemes) (6.0.1)\n",
      "Requirement already satisfied: rfc3339-validator in c:\\users\\hrish\\anaconda3\\lib\\site-packages (from jupyter-events>=0.6.0->jupyter-server<3,>=2.4.0->notebook>=5.6.0->jupyterthemes) (0.1.4)\n",
      "Requirement already satisfied: rfc3986-validator>=0.1.1 in c:\\users\\hrish\\anaconda3\\lib\\site-packages (from jupyter-events>=0.6.0->jupyter-server<3,>=2.4.0->notebook>=5.6.0->jupyterthemes) (0.1.1)\n",
      "Requirement already satisfied: beautifulsoup4 in c:\\users\\hrish\\anaconda3\\lib\\site-packages (from nbconvert>=6.4.4->jupyter-server<3,>=2.4.0->notebook>=5.6.0->jupyterthemes) (4.12.2)\n",
      "Requirement already satisfied: bleach!=5.0.0 in c:\\users\\hrish\\anaconda3\\lib\\site-packages (from nbconvert>=6.4.4->jupyter-server<3,>=2.4.0->notebook>=5.6.0->jupyterthemes) (4.1.0)\n",
      "Requirement already satisfied: defusedxml in c:\\users\\hrish\\anaconda3\\lib\\site-packages (from nbconvert>=6.4.4->jupyter-server<3,>=2.4.0->notebook>=5.6.0->jupyterthemes) (0.7.1)\n",
      "Requirement already satisfied: jupyterlab-pygments in c:\\users\\hrish\\anaconda3\\lib\\site-packages (from nbconvert>=6.4.4->jupyter-server<3,>=2.4.0->notebook>=5.6.0->jupyterthemes) (0.1.2)\n",
      "Requirement already satisfied: mistune<4,>=2.0.3 in c:\\users\\hrish\\anaconda3\\lib\\site-packages (from nbconvert>=6.4.4->jupyter-server<3,>=2.4.0->notebook>=5.6.0->jupyterthemes) (2.0.4)\n",
      "Requirement already satisfied: nbclient>=0.5.0 in c:\\users\\hrish\\anaconda3\\lib\\site-packages (from nbconvert>=6.4.4->jupyter-server<3,>=2.4.0->notebook>=5.6.0->jupyterthemes) (0.8.0)\n",
      "Requirement already satisfied: pandocfilters>=1.4.1 in c:\\users\\hrish\\anaconda3\\lib\\site-packages (from nbconvert>=6.4.4->jupyter-server<3,>=2.4.0->notebook>=5.6.0->jupyterthemes) (1.5.0)\n",
      "Requirement already satisfied: tinycss2 in c:\\users\\hrish\\anaconda3\\lib\\site-packages (from nbconvert>=6.4.4->jupyter-server<3,>=2.4.0->notebook>=5.6.0->jupyterthemes) (1.2.1)\n",
      "Requirement already satisfied: fastjsonschema in c:\\users\\hrish\\anaconda3\\lib\\site-packages (from nbformat>=5.3.0->jupyter-server<3,>=2.4.0->notebook>=5.6.0->jupyterthemes) (2.16.2)\n",
      "Requirement already satisfied: charset-normalizer<4,>=2 in c:\\users\\hrish\\anaconda3\\lib\\site-packages (from requests>=2.31->jupyterlab-server<3,>=2.22.1->notebook>=5.6.0->jupyterthemes) (2.0.4)\n",
      "Requirement already satisfied: urllib3<3,>=1.21.1 in c:\\users\\hrish\\anaconda3\\lib\\site-packages (from requests>=2.31->jupyterlab-server<3,>=2.22.1->notebook>=5.6.0->jupyterthemes) (2.0.7)\n",
      "Requirement already satisfied: certifi>=2017.4.17 in c:\\users\\hrish\\anaconda3\\lib\\site-packages (from requests>=2.31->jupyterlab-server<3,>=2.22.1->notebook>=5.6.0->jupyterthemes) (2024.2.2)\n",
      "Requirement already satisfied: argon2-cffi-bindings in c:\\users\\hrish\\anaconda3\\lib\\site-packages (from argon2-cffi->jupyter-server<3,>=2.4.0->notebook>=5.6.0->jupyterthemes) (21.2.0)\n",
      "Requirement already satisfied: comm>=0.1.1 in c:\\users\\hrish\\anaconda3\\lib\\site-packages (from ipykernel->jupyterlab<4.1,>=4.0.2->notebook>=5.6.0->jupyterthemes) (0.1.2)\n",
      "Requirement already satisfied: debugpy>=1.6.5 in c:\\users\\hrish\\anaconda3\\lib\\site-packages (from ipykernel->jupyterlab<4.1,>=4.0.2->notebook>=5.6.0->jupyterthemes) (1.6.7)\n",
      "Requirement already satisfied: nest-asyncio in c:\\users\\hrish\\anaconda3\\lib\\site-packages (from ipykernel->jupyterlab<4.1,>=4.0.2->notebook>=5.6.0->jupyterthemes) (1.6.0)\n",
      "Requirement already satisfied: psutil in c:\\users\\hrish\\anaconda3\\lib\\site-packages (from ipykernel->jupyterlab<4.1,>=4.0.2->notebook>=5.6.0->jupyterthemes) (5.9.0)\n",
      "Requirement already satisfied: webencodings in c:\\users\\hrish\\anaconda3\\lib\\site-packages (from bleach!=5.0.0->nbconvert>=6.4.4->jupyter-server<3,>=2.4.0->notebook>=5.6.0->jupyterthemes) (0.5.1)\n",
      "Collecting fqdn (from jsonschema[format-nongpl]>=4.18.0->jupyter-events>=0.6.0->jupyter-server<3,>=2.4.0->notebook>=5.6.0->jupyterthemes)\n",
      "  Downloading fqdn-1.5.1-py3-none-any.whl.metadata (1.4 kB)\n",
      "Collecting isoduration (from jsonschema[format-nongpl]>=4.18.0->jupyter-events>=0.6.0->jupyter-server<3,>=2.4.0->notebook>=5.6.0->jupyterthemes)\n",
      "  Downloading isoduration-20.11.0-py3-none-any.whl.metadata (5.7 kB)\n",
      "Requirement already satisfied: jsonpointer>1.13 in c:\\users\\hrish\\anaconda3\\lib\\site-packages (from jsonschema[format-nongpl]>=4.18.0->jupyter-events>=0.6.0->jupyter-server<3,>=2.4.0->notebook>=5.6.0->jupyterthemes) (2.1)\n",
      "Collecting uri-template (from jsonschema[format-nongpl]>=4.18.0->jupyter-events>=0.6.0->jupyter-server<3,>=2.4.0->notebook>=5.6.0->jupyterthemes)\n",
      "  Downloading uri_template-1.3.0-py3-none-any.whl.metadata (8.8 kB)\n",
      "Collecting webcolors>=1.11 (from jsonschema[format-nongpl]>=4.18.0->jupyter-events>=0.6.0->jupyter-server<3,>=2.4.0->notebook>=5.6.0->jupyterthemes)\n",
      "  Downloading webcolors-24.6.0-py3-none-any.whl.metadata (2.6 kB)\n",
      "Requirement already satisfied: cffi>=1.0.1 in c:\\users\\hrish\\anaconda3\\lib\\site-packages (from argon2-cffi-bindings->argon2-cffi->jupyter-server<3,>=2.4.0->notebook>=5.6.0->jupyterthemes) (1.16.0)\n",
      "Requirement already satisfied: soupsieve>1.2 in c:\\users\\hrish\\anaconda3\\lib\\site-packages (from beautifulsoup4->nbconvert>=6.4.4->jupyter-server<3,>=2.4.0->notebook>=5.6.0->jupyterthemes) (2.5)\n",
      "Requirement already satisfied: pycparser in c:\\users\\hrish\\anaconda3\\lib\\site-packages (from cffi>=1.0.1->argon2-cffi-bindings->argon2-cffi->jupyter-server<3,>=2.4.0->notebook>=5.6.0->jupyterthemes) (2.21)\n",
      "Requirement already satisfied: arrow>=0.15.0 in c:\\users\\hrish\\anaconda3\\lib\\site-packages (from isoduration->jsonschema[format-nongpl]>=4.18.0->jupyter-events>=0.6.0->jupyter-server<3,>=2.4.0->notebook>=5.6.0->jupyterthemes) (1.2.3)\n",
      "Downloading jupyterthemes-0.20.0-py2.py3-none-any.whl (7.0 MB)\n",
      "   ---------------------------------------- 0.0/7.0 MB ? eta -:--:--\n",
      "   ---------------------------------------- 0.0/7.0 MB 991.0 kB/s eta 0:00:08\n",
      "    --------------------------------------- 0.1/7.0 MB 1.3 MB/s eta 0:00:06\n",
      "    --------------------------------------- 0.2/7.0 MB 1.3 MB/s eta 0:00:06\n",
      "   - -------------------------------------- 0.3/7.0 MB 1.5 MB/s eta 0:00:05\n",
      "   -- ------------------------------------- 0.4/7.0 MB 1.6 MB/s eta 0:00:05\n",
      "   -- ------------------------------------- 0.5/7.0 MB 1.7 MB/s eta 0:00:04\n",
      "   -- ------------------------------------- 0.5/7.0 MB 1.7 MB/s eta 0:00:04\n",
      "   --- ------------------------------------ 0.6/7.0 MB 1.7 MB/s eta 0:00:04\n",
      "   ---- ----------------------------------- 0.7/7.0 MB 1.7 MB/s eta 0:00:04\n",
      "   ---- ----------------------------------- 0.8/7.0 MB 1.6 MB/s eta 0:00:04\n",
      "   ----- ---------------------------------- 0.9/7.0 MB 1.7 MB/s eta 0:00:04\n",
      "   ----- ---------------------------------- 1.0/7.0 MB 1.8 MB/s eta 0:00:04\n",
      "   ------ --------------------------------- 1.1/7.0 MB 1.8 MB/s eta 0:00:04\n",
      "   ------ --------------------------------- 1.2/7.0 MB 1.8 MB/s eta 0:00:04\n",
      "   ------- -------------------------------- 1.3/7.0 MB 1.8 MB/s eta 0:00:04\n",
      "   ------- -------------------------------- 1.4/7.0 MB 1.8 MB/s eta 0:00:04\n",
      "   -------- ------------------------------- 1.5/7.0 MB 1.9 MB/s eta 0:00:03\n",
      "   -------- ------------------------------- 1.5/7.0 MB 1.8 MB/s eta 0:00:04\n",
      "   --------- ------------------------------ 1.6/7.0 MB 1.9 MB/s eta 0:00:03\n",
      "   --------- ------------------------------ 1.8/7.0 MB 1.9 MB/s eta 0:00:03\n",
      "   ---------- ----------------------------- 1.8/7.0 MB 1.9 MB/s eta 0:00:03\n",
      "   ----------- ---------------------------- 1.9/7.0 MB 1.9 MB/s eta 0:00:03\n",
      "   ----------- ---------------------------- 2.0/7.0 MB 1.9 MB/s eta 0:00:03\n",
      "   ------------ --------------------------- 2.1/7.0 MB 1.9 MB/s eta 0:00:03\n",
      "   ------------ --------------------------- 2.2/7.0 MB 1.9 MB/s eta 0:00:03\n",
      "   ------------ --------------------------- 2.3/7.0 MB 1.9 MB/s eta 0:00:03\n",
      "   ------------- -------------------------- 2.3/7.0 MB 1.8 MB/s eta 0:00:03\n",
      "   ------------- -------------------------- 2.4/7.0 MB 1.8 MB/s eta 0:00:03\n",
      "   -------------- ------------------------- 2.5/7.0 MB 1.8 MB/s eta 0:00:03\n",
      "   -------------- ------------------------- 2.6/7.0 MB 1.8 MB/s eta 0:00:03\n",
      "   -------------- ------------------------- 2.6/7.0 MB 1.8 MB/s eta 0:00:03\n",
      "   --------------- ------------------------ 2.7/7.0 MB 1.8 MB/s eta 0:00:03\n",
      "   ---------------- ----------------------- 2.8/7.0 MB 1.8 MB/s eta 0:00:03\n",
      "   ---------------- ----------------------- 2.9/7.0 MB 1.8 MB/s eta 0:00:03\n",
      "   ----------------- ---------------------- 3.0/7.0 MB 1.8 MB/s eta 0:00:03\n",
      "   ----------------- ---------------------- 3.1/7.0 MB 1.8 MB/s eta 0:00:03\n",
      "   ------------------ --------------------- 3.2/7.0 MB 1.8 MB/s eta 0:00:03\n",
      "   ------------------ --------------------- 3.3/7.0 MB 1.8 MB/s eta 0:00:03\n",
      "   ------------------- -------------------- 3.4/7.0 MB 1.8 MB/s eta 0:00:02\n",
      "   ------------------- -------------------- 3.5/7.0 MB 1.8 MB/s eta 0:00:02\n",
      "   -------------------- ------------------- 3.6/7.0 MB 1.8 MB/s eta 0:00:02\n",
      "   -------------------- ------------------- 3.6/7.0 MB 1.8 MB/s eta 0:00:02\n",
      "   --------------------- ------------------ 3.7/7.0 MB 1.8 MB/s eta 0:00:02\n",
      "   --------------------- ------------------ 3.8/7.0 MB 1.9 MB/s eta 0:00:02\n",
      "   ---------------------- ----------------- 4.0/7.0 MB 1.9 MB/s eta 0:00:02\n",
      "   ---------------------- ----------------- 4.0/7.0 MB 1.9 MB/s eta 0:00:02\n",
      "   ----------------------- ---------------- 4.1/7.0 MB 1.9 MB/s eta 0:00:02\n",
      "   ------------------------ --------------- 4.2/7.0 MB 1.9 MB/s eta 0:00:02\n",
      "   ------------------------ --------------- 4.3/7.0 MB 1.9 MB/s eta 0:00:02\n",
      "   ------------------------- -------------- 4.4/7.0 MB 1.9 MB/s eta 0:00:02\n",
      "   ------------------------- -------------- 4.5/7.0 MB 1.9 MB/s eta 0:00:02\n",
      "   ------------------------- -------------- 4.5/7.0 MB 1.9 MB/s eta 0:00:02\n",
      "   -------------------------- ------------- 4.6/7.0 MB 1.9 MB/s eta 0:00:02\n",
      "   -------------------------- ------------- 4.6/7.0 MB 1.8 MB/s eta 0:00:02\n",
      "   -------------------------- ------------- 4.7/7.0 MB 1.8 MB/s eta 0:00:02\n",
      "   --------------------------- ------------ 4.7/7.0 MB 1.8 MB/s eta 0:00:02\n",
      "   --------------------------- ------------ 4.8/7.0 MB 1.8 MB/s eta 0:00:02\n",
      "   ---------------------------- ----------- 4.9/7.0 MB 1.8 MB/s eta 0:00:02\n",
      "   ---------------------------- ----------- 5.0/7.0 MB 1.8 MB/s eta 0:00:02\n",
      "   ---------------------------- ----------- 5.1/7.0 MB 1.8 MB/s eta 0:00:02\n",
      "   ----------------------------- ---------- 5.2/7.0 MB 1.8 MB/s eta 0:00:02\n",
      "   ------------------------------ --------- 5.3/7.0 MB 1.8 MB/s eta 0:00:01\n",
      "   ------------------------------ --------- 5.3/7.0 MB 1.8 MB/s eta 0:00:01\n",
      "   ------------------------------ --------- 5.4/7.0 MB 1.8 MB/s eta 0:00:01\n",
      "   ------------------------------- -------- 5.4/7.0 MB 1.8 MB/s eta 0:00:01\n",
      "   ------------------------------- -------- 5.5/7.0 MB 1.8 MB/s eta 0:00:01\n",
      "   ------------------------------- -------- 5.6/7.0 MB 1.8 MB/s eta 0:00:01\n",
      "   ------------------------------- -------- 5.6/7.0 MB 1.8 MB/s eta 0:00:01\n",
      "   -------------------------------- ------- 5.7/7.0 MB 1.8 MB/s eta 0:00:01\n",
      "   -------------------------------- ------- 5.7/7.0 MB 1.8 MB/s eta 0:00:01\n",
      "   -------------------------------- ------- 5.8/7.0 MB 1.8 MB/s eta 0:00:01\n",
      "   --------------------------------- ------ 5.8/7.0 MB 1.8 MB/s eta 0:00:01\n",
      "   --------------------------------- ------ 5.9/7.0 MB 1.8 MB/s eta 0:00:01\n",
      "   ---------------------------------- ----- 6.0/7.0 MB 1.8 MB/s eta 0:00:01\n",
      "   ---------------------------------- ----- 6.0/7.0 MB 1.8 MB/s eta 0:00:01\n",
      "   ---------------------------------- ----- 6.1/7.0 MB 1.8 MB/s eta 0:00:01\n",
      "   ----------------------------------- ---- 6.2/7.0 MB 1.8 MB/s eta 0:00:01\n",
      "   ----------------------------------- ---- 6.3/7.0 MB 1.8 MB/s eta 0:00:01\n",
      "   ------------------------------------ --- 6.3/7.0 MB 1.8 MB/s eta 0:00:01\n",
      "   ------------------------------------ --- 6.4/7.0 MB 1.8 MB/s eta 0:00:01\n",
      "   ------------------------------------- -- 6.5/7.0 MB 1.8 MB/s eta 0:00:01\n",
      "   ------------------------------------- -- 6.6/7.0 MB 1.7 MB/s eta 0:00:01\n",
      "   ------------------------------------- -- 6.6/7.0 MB 1.7 MB/s eta 0:00:01\n",
      "   -------------------------------------- - 6.7/7.0 MB 1.7 MB/s eta 0:00:01\n",
      "   -------------------------------------- - 6.8/7.0 MB 1.7 MB/s eta 0:00:01\n",
      "   ---------------------------------------  6.9/7.0 MB 1.7 MB/s eta 0:00:01\n",
      "   ---------------------------------------  7.0/7.0 MB 1.8 MB/s eta 0:00:01\n",
      "   ---------------------------------------- 7.0/7.0 MB 1.7 MB/s eta 0:00:00\n",
      "Downloading lesscpy-0.15.1-py2.py3-none-any.whl (46 kB)\n",
      "   ---------------------------------------- 0.0/46.7 kB ? eta -:--:--\n",
      "   ---------------------------------------- 46.7/46.7 kB ? eta 0:00:00\n",
      "Downloading webcolors-24.6.0-py3-none-any.whl (14 kB)\n",
      "Downloading fqdn-1.5.1-py3-none-any.whl (9.1 kB)\n",
      "Downloading isoduration-20.11.0-py3-none-any.whl (11 kB)\n",
      "Downloading uri_template-1.3.0-py3-none-any.whl (11 kB)\n",
      "Installing collected packages: webcolors, uri-template, lesscpy, fqdn, isoduration, jupyterthemes\n",
      "Successfully installed fqdn-1.5.1 isoduration-20.11.0 jupyterthemes-0.20.0 lesscpy-0.15.1 uri-template-1.3.0 webcolors-24.6.0\n"
     ]
    }
   ],
   "source": [
    "pip install jupyterthemes"
   ]
  },
  {
   "cell_type": "code",
   "execution_count": 1,
   "id": "43c562cb-e768-4dc9-8725-60f6835b9889",
   "metadata": {},
   "outputs": [],
   "source": [
    "import cv2\n",
    "import os\n",
    "import random\n",
    "import numpy as np\n",
    "from matplotlib import pyplot as plt\n",
    "#importing tensorflow dependancies\n",
    "from tensorflow.keras.models import Model\n",
    "from tensorflow.keras.layers import Layer,Conv2D,Dense,MaxPooling2D,Input,Flatten\n",
    "import tensorflow as tf"
   ]
  },
  {
   "cell_type": "code",
   "execution_count": 2,
   "id": "3e1b0637-a2ae-4978-9a1b-4b596bb44f4a",
   "metadata": {},
   "outputs": [
    {
     "name": "stdout",
     "output_type": "stream",
     "text": [
      "2.16.1\n"
     ]
    }
   ],
   "source": [
    "print(tf.__version__)"
   ]
  },
  {
   "cell_type": "code",
   "execution_count": 3,
   "id": "54377ef6-413b-45b6-9399-52e4089502d2",
   "metadata": {},
   "outputs": [],
   "source": [
    "pos_path = os.path.join(\"data\",\"positive\")\n",
    "neg_path = os.path.join(\"data\",\"negative\")\n",
    "anc_path = os.path.join(\"data\",\"anchor\")"
   ]
  },
  {
   "cell_type": "code",
   "execution_count": null,
   "id": "a0c98faf-6a00-49c4-964e-3ef26a3d2174",
   "metadata": {},
   "outputs": [],
   "source": [
    "os.makedirs(pos_path)\n",
    "os.makedirs(neg_path)\n",
    "os.makedirs(anc_path)"
   ]
  },
  {
   "cell_type": "code",
   "execution_count": 17,
   "id": "3f9b6276-3215-4afd-ac30-4818fa151238",
   "metadata": {},
   "outputs": [],
   "source": [
    "for directory in os.listdir(\"lfw-deepfunneled\"):\n",
    "  for file1 in os.listdir(os.path.join(\"lfw-deepfunneled\",directory)):\n",
    "    ex_path = os.path.join(\"lfw-deepfunneled\",directory,file1)\n",
    "    new_path = os.path.join(neg_path,file1)\n",
    "    os.replace(ex_path,new_path)"
   ]
  },
  {
   "cell_type": "code",
   "execution_count": 4,
   "id": "7b03f3a8-0458-4c74-8f73-7b673a891a34",
   "metadata": {},
   "outputs": [],
   "source": [
    "#import uuid library to generate unique image names\n",
    "import uuid"
   ]
  },
  {
   "cell_type": "code",
   "execution_count": 5,
   "id": "e9b515a0-5910-46d2-a92a-cf6836994b89",
   "metadata": {},
   "outputs": [],
   "source": [
    "#establish connection with the webcam\n",
    "cap = cv2.VideoCapture(0)\n",
    "while cap.isOpened():\n",
    "  ret,frame = cap.read()\n",
    "  frame = frame[120:120+250,200:200+250,:]  \n",
    "  #show image back to screen\n",
    "  cv2.imshow(\"Image showed\",frame)\n",
    "  #collect anchors \n",
    "  if cv2.waitKey(1) & 0XFF == ord('a'):\n",
    "      #create unique filepath name\n",
    "      imgname = os.path.join(anc_path, '{}.jpg'.format(uuid.uuid1()))\n",
    "      # write out anchor image  \n",
    "      cv2.imwrite(imgname,frame)  \n",
    "\n",
    "  #collect positives \n",
    "  if cv2.waitKey(1) & 0XFF == ord('p'):\n",
    "      #create unique filepath name                       \n",
    "      imgname = os.path.join(pos_path,'{}.jpg'.format(uuid.uuid1()))\n",
    "      # write out anchor image                         \n",
    "      cv2.imwrite(imgname,frame)  \n",
    "\n",
    "\n",
    "  #breaking gracefully after clicking q on keyboard\n",
    "  if cv2.waitKey(1) & 0XFF == ord('q'):\n",
    "    break\n",
    "#Release the webcam\n",
    "cap.release()\n",
    "\n",
    "#close the image show frame\n",
    "cv2.destroyAllWindows()\n"
   ]
  },
  {
   "cell_type": "markdown",
   "id": "9c5fb9b4-a247-4fa2-9a99-21f89118a412",
   "metadata": {},
   "source": [
    "# 3. Load and Preprocess Images"
   ]
  },
  {
   "cell_type": "code",
   "execution_count": 5,
   "id": "8ce72d5d-bc6f-4fb8-8261-125fd398cb30",
   "metadata": {},
   "outputs": [],
   "source": [
    "anchor = tf.data.Dataset.list_files(anc_path + '\\*.jpg').take(300)\n",
    "positive = tf.data.Dataset.list_files(pos_path + '\\*.jpg').take(300)\n",
    "negative = tf.data.Dataset.list_files(neg_path + '\\*.jpg').take(300)"
   ]
  },
  {
   "cell_type": "code",
   "execution_count": 6,
   "id": "d5a8a274-a375-4298-afc4-1aa9f72acc77",
   "metadata": {},
   "outputs": [],
   "source": [
    "dir_test = anchor.as_numpy_iterator()"
   ]
  },
  {
   "cell_type": "code",
   "execution_count": 7,
   "id": "9132c56c-70ed-4a9a-9ee9-baf8abf5db83",
   "metadata": {},
   "outputs": [
    {
     "name": "stdout",
     "output_type": "stream",
     "text": [
      "b'data\\\\anchor\\\\7de86783-23bb-11ef-91d7-88483d51f07d.jpg'\n"
     ]
    }
   ],
   "source": [
    "print(dir_test.next())"
   ]
  },
  {
   "cell_type": "code",
   "execution_count": 8,
   "id": "b905f4e2-0d4c-4e51-a263-0e5393622a27",
   "metadata": {},
   "outputs": [],
   "source": [
    "#Preprocessing images- resizing and scaling\n",
    "\n",
    "def preprocess(file_path):\n",
    "    file_path\n",
    "    # Read in image from file path\n",
    "    byte_img = tf.io.read_file(file_path)\n",
    "    # Load in the image using decode_jpeg from tensorflow\n",
    "    img = tf.io.decode_jpeg(byte_img)\n",
    "    # Resize the image to 100 by 100 pixels\n",
    "    img = tf.image.resize(img, (100,100))\n",
    "    # Scale image between 0 and 1\n",
    "    img  = img/255.0\n",
    "    return img\n"
   ]
  },
  {
   "cell_type": "code",
   "execution_count": 9,
   "id": "bebdfce9-9dd0-4fb3-bf52-8425acb6cfb2",
   "metadata": {},
   "outputs": [
    {
     "data": {
      "text/plain": [
       "<tf.Tensor: shape=(100, 100, 3), dtype=float32, numpy=\n",
       "array([[[0.69411767, 0.6666667 , 0.6431373 ],\n",
       "        [0.6909314 , 0.6634804 , 0.639951  ],\n",
       "        [0.6901961 , 0.6627451 , 0.6392157 ],\n",
       "        ...,\n",
       "        [0.6901961 , 0.654902  , 0.6666667 ],\n",
       "        [0.6865196 , 0.6512255 , 0.6629902 ],\n",
       "        [0.6784314 , 0.654902  , 0.6627451 ]],\n",
       "\n",
       "       [[0.7031863 , 0.6737745 , 0.6512255 ],\n",
       "        [0.69534314, 0.66593134, 0.6433824 ],\n",
       "        [0.69534314, 0.66593134, 0.6433824 ],\n",
       "        ...,\n",
       "        [0.6901961 , 0.654902  , 0.6647059 ],\n",
       "        [0.6901961 , 0.654902  , 0.6602941 ],\n",
       "        [0.68235296, 0.64705884, 0.6509804 ]],\n",
       "\n",
       "       [[0.70367646, 0.66838235, 0.6487745 ],\n",
       "        [0.6958333 , 0.6605392 , 0.64093137],\n",
       "        [0.6990196 , 0.6637255 , 0.64411765],\n",
       "        ...,\n",
       "        [0.6904412 , 0.6551471 , 0.65906864],\n",
       "        [0.6904412 , 0.6573529 , 0.6546569 ],\n",
       "        [0.68235296, 0.65      , 0.64509803]],\n",
       "\n",
       "       ...,\n",
       "\n",
       "       [[0.6911765 , 0.67156863, 0.69509804],\n",
       "        [0.6862745 , 0.65882355, 0.6862745 ],\n",
       "        [0.7230392 , 0.6867647 , 0.7171569 ],\n",
       "        ...,\n",
       "        [0.67009807, 0.652451  , 0.6813725 ],\n",
       "        [0.7465686 , 0.7348039 , 0.7740196 ],\n",
       "        [0.79093134, 0.77916664, 0.82230395]],\n",
       "\n",
       "       [[0.73063725, 0.7110294 , 0.7345588 ],\n",
       "        [0.6970588 , 0.6696078 , 0.6970588 ],\n",
       "        [0.7085784 , 0.6723039 , 0.7026961 ],\n",
       "        ...,\n",
       "        [0.6647059 , 0.6455882 , 0.67083335],\n",
       "        [0.7031863 , 0.689951  , 0.7232843 ],\n",
       "        [0.7656863 , 0.75392157, 0.7911765 ]],\n",
       "\n",
       "       [[0.70980394, 0.6901961 , 0.7137255 ],\n",
       "        [0.70392156, 0.6764706 , 0.70392156],\n",
       "        [0.7029412 , 0.6666667 , 0.6970588 ],\n",
       "        ...,\n",
       "        [0.6372549 , 0.61764705, 0.64117646],\n",
       "        [0.672549  , 0.65882355, 0.6852941 ],\n",
       "        [0.7360294 , 0.7242647 , 0.7595588 ]]], dtype=float32)>"
      ]
     },
     "execution_count": 9,
     "metadata": {},
     "output_type": "execute_result"
    }
   ],
   "source": [
    "img = preprocess('data\\\\anchor\\\\7dc38cf5-23bb-11ef-ba33-88483d51f07d.jpg')\n",
    "img"
   ]
  },
  {
   "cell_type": "code",
   "execution_count": 10,
   "id": "d4a57557-70c9-464a-9c2b-01b4db40e7f2",
   "metadata": {},
   "outputs": [],
   "source": [
    "# Create Labelled Dataset\n",
    "# (anchor,positive) => 1,1,1,1,1\n",
    "# (anchor, negative) => 0,0,0,0,0\n",
    "\n",
    "positives = tf.data.Dataset.zip((anchor,positive,tf.data.Dataset.from_tensor_slices(tf.ones(300))))\n",
    "negatives = tf.data.Dataset.zip((anchor,negative,tf.data.Dataset.from_tensor_slices(tf.zeros(300))))\n",
    "data = positives.concatenate(negatives)\n"
   ]
  },
  {
   "cell_type": "code",
   "execution_count": 11,
   "id": "0b28ca67-0228-4a8b-9dc7-bc4cadaefea6",
   "metadata": {},
   "outputs": [
    {
     "data": {
      "text/plain": [
       "(b'data\\\\anchor\\\\8c2dbfe8-23bb-11ef-85af-88483d51f07d.jpg',\n",
       " b'data\\\\positive\\\\9d24a61e-23bb-11ef-bc6f-88483d51f07d.jpg',\n",
       " 1.0)"
      ]
     },
     "execution_count": 11,
     "metadata": {},
     "output_type": "execute_result"
    }
   ],
   "source": [
    "samples = data.as_numpy_iterator()\n",
    "samples.next()"
   ]
  },
  {
   "cell_type": "code",
   "execution_count": 12,
   "id": "cc43a097-4c39-40ee-8928-2f7d858e3bb8",
   "metadata": {},
   "outputs": [],
   "source": [
    "def preprocess_twin(input_img,validation_img,label):\n",
    "    return(preprocess(input_img),preprocess(validation_img),label)"
   ]
  },
  {
   "cell_type": "code",
   "execution_count": 13,
   "id": "033b2246-aacd-445e-bbd2-9fa34b14bae4",
   "metadata": {},
   "outputs": [
    {
     "ename": "NameError",
     "evalue": "name 'example' is not defined",
     "output_type": "error",
     "traceback": [
      "\u001b[1;31m---------------------------------------------------------------------------\u001b[0m",
      "\u001b[1;31mNameError\u001b[0m                                 Traceback (most recent call last)",
      "Cell \u001b[1;32mIn[13], line 1\u001b[0m\n\u001b[1;32m----> 1\u001b[0m res \u001b[38;5;241m=\u001b[39m preprocess_twin(\u001b[38;5;241m*\u001b[39mexample)\n",
      "\u001b[1;31mNameError\u001b[0m: name 'example' is not defined"
     ]
    }
   ],
   "source": [
    "\n",
    "res = preprocess_twin(*example)\n",
    "# if example is a tuple of (a,b,c) then preprocess_twin(*example) is equivalent to prepreprocess_twin(a,b,c)\n"
   ]
  },
  {
   "cell_type": "code",
   "execution_count": null,
   "id": "363d2a08-1d3f-4f5e-9917-ec5a6b1a3233",
   "metadata": {},
   "outputs": [],
   "source": [
    "plt.imshow(res[1])"
   ]
  },
  {
   "cell_type": "code",
   "execution_count": 53,
   "id": "0004a11a-b028-4a36-92cc-0cffeeb55c4d",
   "metadata": {},
   "outputs": [],
   "source": [
    "# Build a dataloader pipeline\n",
    "data = data.map(preprocess_twin)\n",
    "data\n",
    "# Cache functions brings the data set into cache memory so that every time this code runs, the system doesnt have to spend time in opening and reading\n",
    "# files and can directly access it much faster\n",
    "data = data.cache()\n",
    "data = data.shuffle(buffer_size = 1024)"
   ]
  },
  {
   "cell_type": "code",
   "execution_count": 54,
   "id": "f15907ef-a540-454d-84c3-771d30d69fe8",
   "metadata": {},
   "outputs": [
    {
     "data": {
      "text/plain": [
       "<_ShuffleDataset element_spec=(TensorSpec(shape=(100, 100, None), dtype=tf.float32, name=None), TensorSpec(shape=(100, 100, None), dtype=tf.float32, name=None), TensorSpec(shape=(), dtype=tf.float32, name=None))>"
      ]
     },
     "execution_count": 54,
     "metadata": {},
     "output_type": "execute_result"
    }
   ],
   "source": [
    "data"
   ]
  },
  {
   "cell_type": "code",
   "execution_count": 55,
   "id": "95b5050f-8952-46b0-bc2e-db17a062af3d",
   "metadata": {},
   "outputs": [],
   "source": [
    "# Training Partition\n",
    "\n",
    "# Taking only 70% samples of data for training module\n",
    "train_data = data.take(round(len(data)*0.7))\n",
    "# Batch functions runs the training model in batches of 16 datasets so as to speed up the process\n",
    "train_data = train_data.batch(16)\n",
    "#  Prefetching overlaps the preprocessing and the model execution by preparing the next batch of data while the current batch is \n",
    "# being processed by the model. This helps to keep the GPU or CPU working continuously without waiting for data.\n",
    "train_data = train_data.prefetch(8)"
   ]
  },
  {
   "cell_type": "code",
   "execution_count": 56,
   "id": "c3e6456c-0691-46e9-bc68-c235df80f8fe",
   "metadata": {},
   "outputs": [],
   "source": [
    "train_samples = train_data.as_numpy_iterator()"
   ]
  },
  {
   "cell_type": "code",
   "execution_count": 57,
   "id": "406b4032-4f59-44d3-9072-66d574f11664",
   "metadata": {},
   "outputs": [],
   "source": [
    "train_sample = train_samples.next()"
   ]
  },
  {
   "cell_type": "code",
   "execution_count": 58,
   "id": "77938b9a-fea0-493f-afa9-975d758d7c6d",
   "metadata": {},
   "outputs": [
    {
     "data": {
      "text/plain": [
       "16"
      ]
     },
     "execution_count": 58,
     "metadata": {},
     "output_type": "execute_result"
    }
   ],
   "source": [
    "len(train_sample[0])"
   ]
  },
  {
   "cell_type": "code",
   "execution_count": 59,
   "id": "05427346-a731-407a-9793-f8bfd533de1f",
   "metadata": {},
   "outputs": [],
   "source": [
    "# Testing the partition\n",
    "test_data = data.skip(round(len(data)*0.7))\n",
    "test_data = test_data.take(round(len(data)*0.3))\n",
    "test_data = test_data.batch(16)\n",
    "test_data = test_data.prefetch(8)"
   ]
  },
  {
   "cell_type": "markdown",
   "id": "4b4c84a0-d8ee-43e4-900d-e20dd65c708f",
   "metadata": {},
   "source": [
    "# 4. Model Engineering"
   ]
  },
  {
   "cell_type": "markdown",
   "id": "474f7a91-7a0b-47da-b26b-c242f40756e4",
   "metadata": {},
   "source": [
    "## 4.1 Building Embedded Layer"
   ]
  },
  {
   "cell_type": "code",
   "execution_count": 60,
   "id": "9485ff5a-8e30-49cb-8bcb-a0d7ec81216e",
   "metadata": {},
   "outputs": [],
   "source": [
    "inp = Input(shape=(100,100,3), name='input_image')"
   ]
  },
  {
   "cell_type": "code",
   "execution_count": 61,
   "id": "efab8423-a612-450f-9b62-358afae99f94",
   "metadata": {},
   "outputs": [],
   "source": [
    "c1 = Conv2D(64, (10,10), activation='relu')(inp)"
   ]
  },
  {
   "cell_type": "code",
   "execution_count": 62,
   "id": "35fe4116-5a9a-44e3-a783-00387f8a625c",
   "metadata": {},
   "outputs": [],
   "source": [
    "m1 = MaxPooling2D(64, (2,2), padding='same')(c1)"
   ]
  },
  {
   "cell_type": "code",
   "execution_count": 63,
   "id": "b2b47835-d964-410f-b454-1bf384fe8b03",
   "metadata": {},
   "outputs": [],
   "source": [
    "c2 = Conv2D(128, (7,7), activation='relu')(m1)\n",
    "m2 = MaxPooling2D(64, (2,2), padding='same')(c2)"
   ]
  },
  {
   "cell_type": "code",
   "execution_count": 64,
   "id": "64a98242-923b-42e6-a866-f331792ae2e4",
   "metadata": {},
   "outputs": [],
   "source": [
    "c3 = Conv2D(128, (4,4), activation='relu')(m2)\n",
    "m3 = MaxPooling2D(64, (2,2), padding='same')(c3)"
   ]
  },
  {
   "cell_type": "code",
   "execution_count": 65,
   "id": "b7d6d5e4-c442-4d61-b55b-00a25f4c2ce1",
   "metadata": {},
   "outputs": [],
   "source": [
    "\n",
    "c4 = Conv2D(256, (4,4), activation='relu')(m3)\n",
    "f1 = Flatten()(c4)\n",
    "d1 = Dense(4096, activation='sigmoid')(f1)"
   ]
  },
  {
   "cell_type": "code",
   "execution_count": 66,
   "id": "636354e4-8170-400d-b978-6c0b9c8bb09d",
   "metadata": {},
   "outputs": [],
   "source": [
    "\n",
    "mod = Model(inputs=[inp], outputs=[d1], name='embedding')"
   ]
  },
  {
   "cell_type": "code",
   "execution_count": 67,
   "id": "e7ce392c-9251-4004-9da6-c7e9cf40c109",
   "metadata": {},
   "outputs": [
    {
     "data": {
      "text/html": [
       "<pre style=\"white-space:pre;overflow-x:auto;line-height:normal;font-family:Menlo,'DejaVu Sans Mono',consolas,'Courier New',monospace\"><span style=\"font-weight: bold\">Model: \"embedding\"</span>\n",
       "</pre>\n"
      ],
      "text/plain": [
       "\u001b[1mModel: \"embedding\"\u001b[0m\n"
      ]
     },
     "metadata": {},
     "output_type": "display_data"
    },
    {
     "data": {
      "text/html": [
       "<pre style=\"white-space:pre;overflow-x:auto;line-height:normal;font-family:Menlo,'DejaVu Sans Mono',consolas,'Courier New',monospace\">┏━━━━━━━━━━━━━━━━━━━━━━━━━━━━━━━━━┳━━━━━━━━━━━━━━━━━━━━━━━━┳━━━━━━━━━━━━━━━┓\n",
       "┃<span style=\"font-weight: bold\"> Layer (type)                    </span>┃<span style=\"font-weight: bold\"> Output Shape           </span>┃<span style=\"font-weight: bold\">       Param # </span>┃\n",
       "┡━━━━━━━━━━━━━━━━━━━━━━━━━━━━━━━━━╇━━━━━━━━━━━━━━━━━━━━━━━━╇━━━━━━━━━━━━━━━┩\n",
       "│ input_image (<span style=\"color: #0087ff; text-decoration-color: #0087ff\">InputLayer</span>)        │ (<span style=\"color: #00d7ff; text-decoration-color: #00d7ff\">None</span>, <span style=\"color: #00af00; text-decoration-color: #00af00\">100</span>, <span style=\"color: #00af00; text-decoration-color: #00af00\">100</span>, <span style=\"color: #00af00; text-decoration-color: #00af00\">3</span>)    │             <span style=\"color: #00af00; text-decoration-color: #00af00\">0</span> │\n",
       "├─────────────────────────────────┼────────────────────────┼───────────────┤\n",
       "│ conv2d_8 (<span style=\"color: #0087ff; text-decoration-color: #0087ff\">Conv2D</span>)               │ (<span style=\"color: #00d7ff; text-decoration-color: #00d7ff\">None</span>, <span style=\"color: #00af00; text-decoration-color: #00af00\">91</span>, <span style=\"color: #00af00; text-decoration-color: #00af00\">91</span>, <span style=\"color: #00af00; text-decoration-color: #00af00\">64</span>)     │        <span style=\"color: #00af00; text-decoration-color: #00af00\">19,264</span> │\n",
       "├─────────────────────────────────┼────────────────────────┼───────────────┤\n",
       "│ max_pooling2d_6 (<span style=\"color: #0087ff; text-decoration-color: #0087ff\">MaxPooling2D</span>)  │ (<span style=\"color: #00d7ff; text-decoration-color: #00d7ff\">None</span>, <span style=\"color: #00af00; text-decoration-color: #00af00\">46</span>, <span style=\"color: #00af00; text-decoration-color: #00af00\">46</span>, <span style=\"color: #00af00; text-decoration-color: #00af00\">64</span>)     │             <span style=\"color: #00af00; text-decoration-color: #00af00\">0</span> │\n",
       "├─────────────────────────────────┼────────────────────────┼───────────────┤\n",
       "│ conv2d_9 (<span style=\"color: #0087ff; text-decoration-color: #0087ff\">Conv2D</span>)               │ (<span style=\"color: #00d7ff; text-decoration-color: #00d7ff\">None</span>, <span style=\"color: #00af00; text-decoration-color: #00af00\">40</span>, <span style=\"color: #00af00; text-decoration-color: #00af00\">40</span>, <span style=\"color: #00af00; text-decoration-color: #00af00\">128</span>)    │       <span style=\"color: #00af00; text-decoration-color: #00af00\">401,536</span> │\n",
       "├─────────────────────────────────┼────────────────────────┼───────────────┤\n",
       "│ max_pooling2d_7 (<span style=\"color: #0087ff; text-decoration-color: #0087ff\">MaxPooling2D</span>)  │ (<span style=\"color: #00d7ff; text-decoration-color: #00d7ff\">None</span>, <span style=\"color: #00af00; text-decoration-color: #00af00\">20</span>, <span style=\"color: #00af00; text-decoration-color: #00af00\">20</span>, <span style=\"color: #00af00; text-decoration-color: #00af00\">128</span>)    │             <span style=\"color: #00af00; text-decoration-color: #00af00\">0</span> │\n",
       "├─────────────────────────────────┼────────────────────────┼───────────────┤\n",
       "│ conv2d_10 (<span style=\"color: #0087ff; text-decoration-color: #0087ff\">Conv2D</span>)              │ (<span style=\"color: #00d7ff; text-decoration-color: #00d7ff\">None</span>, <span style=\"color: #00af00; text-decoration-color: #00af00\">17</span>, <span style=\"color: #00af00; text-decoration-color: #00af00\">17</span>, <span style=\"color: #00af00; text-decoration-color: #00af00\">128</span>)    │       <span style=\"color: #00af00; text-decoration-color: #00af00\">262,272</span> │\n",
       "├─────────────────────────────────┼────────────────────────┼───────────────┤\n",
       "│ max_pooling2d_8 (<span style=\"color: #0087ff; text-decoration-color: #0087ff\">MaxPooling2D</span>)  │ (<span style=\"color: #00d7ff; text-decoration-color: #00d7ff\">None</span>, <span style=\"color: #00af00; text-decoration-color: #00af00\">9</span>, <span style=\"color: #00af00; text-decoration-color: #00af00\">9</span>, <span style=\"color: #00af00; text-decoration-color: #00af00\">128</span>)      │             <span style=\"color: #00af00; text-decoration-color: #00af00\">0</span> │\n",
       "├─────────────────────────────────┼────────────────────────┼───────────────┤\n",
       "│ conv2d_11 (<span style=\"color: #0087ff; text-decoration-color: #0087ff\">Conv2D</span>)              │ (<span style=\"color: #00d7ff; text-decoration-color: #00d7ff\">None</span>, <span style=\"color: #00af00; text-decoration-color: #00af00\">6</span>, <span style=\"color: #00af00; text-decoration-color: #00af00\">6</span>, <span style=\"color: #00af00; text-decoration-color: #00af00\">256</span>)      │       <span style=\"color: #00af00; text-decoration-color: #00af00\">524,544</span> │\n",
       "├─────────────────────────────────┼────────────────────────┼───────────────┤\n",
       "│ flatten_2 (<span style=\"color: #0087ff; text-decoration-color: #0087ff\">Flatten</span>)             │ (<span style=\"color: #00d7ff; text-decoration-color: #00d7ff\">None</span>, <span style=\"color: #00af00; text-decoration-color: #00af00\">9216</span>)           │             <span style=\"color: #00af00; text-decoration-color: #00af00\">0</span> │\n",
       "├─────────────────────────────────┼────────────────────────┼───────────────┤\n",
       "│ dense_4 (<span style=\"color: #0087ff; text-decoration-color: #0087ff\">Dense</span>)                 │ (<span style=\"color: #00d7ff; text-decoration-color: #00d7ff\">None</span>, <span style=\"color: #00af00; text-decoration-color: #00af00\">4096</span>)           │    <span style=\"color: #00af00; text-decoration-color: #00af00\">37,752,832</span> │\n",
       "└─────────────────────────────────┴────────────────────────┴───────────────┘\n",
       "</pre>\n"
      ],
      "text/plain": [
       "┏━━━━━━━━━━━━━━━━━━━━━━━━━━━━━━━━━┳━━━━━━━━━━━━━━━━━━━━━━━━┳━━━━━━━━━━━━━━━┓\n",
       "┃\u001b[1m \u001b[0m\u001b[1mLayer (type)                   \u001b[0m\u001b[1m \u001b[0m┃\u001b[1m \u001b[0m\u001b[1mOutput Shape          \u001b[0m\u001b[1m \u001b[0m┃\u001b[1m \u001b[0m\u001b[1m      Param #\u001b[0m\u001b[1m \u001b[0m┃\n",
       "┡━━━━━━━━━━━━━━━━━━━━━━━━━━━━━━━━━╇━━━━━━━━━━━━━━━━━━━━━━━━╇━━━━━━━━━━━━━━━┩\n",
       "│ input_image (\u001b[38;5;33mInputLayer\u001b[0m)        │ (\u001b[38;5;45mNone\u001b[0m, \u001b[38;5;34m100\u001b[0m, \u001b[38;5;34m100\u001b[0m, \u001b[38;5;34m3\u001b[0m)    │             \u001b[38;5;34m0\u001b[0m │\n",
       "├─────────────────────────────────┼────────────────────────┼───────────────┤\n",
       "│ conv2d_8 (\u001b[38;5;33mConv2D\u001b[0m)               │ (\u001b[38;5;45mNone\u001b[0m, \u001b[38;5;34m91\u001b[0m, \u001b[38;5;34m91\u001b[0m, \u001b[38;5;34m64\u001b[0m)     │        \u001b[38;5;34m19,264\u001b[0m │\n",
       "├─────────────────────────────────┼────────────────────────┼───────────────┤\n",
       "│ max_pooling2d_6 (\u001b[38;5;33mMaxPooling2D\u001b[0m)  │ (\u001b[38;5;45mNone\u001b[0m, \u001b[38;5;34m46\u001b[0m, \u001b[38;5;34m46\u001b[0m, \u001b[38;5;34m64\u001b[0m)     │             \u001b[38;5;34m0\u001b[0m │\n",
       "├─────────────────────────────────┼────────────────────────┼───────────────┤\n",
       "│ conv2d_9 (\u001b[38;5;33mConv2D\u001b[0m)               │ (\u001b[38;5;45mNone\u001b[0m, \u001b[38;5;34m40\u001b[0m, \u001b[38;5;34m40\u001b[0m, \u001b[38;5;34m128\u001b[0m)    │       \u001b[38;5;34m401,536\u001b[0m │\n",
       "├─────────────────────────────────┼────────────────────────┼───────────────┤\n",
       "│ max_pooling2d_7 (\u001b[38;5;33mMaxPooling2D\u001b[0m)  │ (\u001b[38;5;45mNone\u001b[0m, \u001b[38;5;34m20\u001b[0m, \u001b[38;5;34m20\u001b[0m, \u001b[38;5;34m128\u001b[0m)    │             \u001b[38;5;34m0\u001b[0m │\n",
       "├─────────────────────────────────┼────────────────────────┼───────────────┤\n",
       "│ conv2d_10 (\u001b[38;5;33mConv2D\u001b[0m)              │ (\u001b[38;5;45mNone\u001b[0m, \u001b[38;5;34m17\u001b[0m, \u001b[38;5;34m17\u001b[0m, \u001b[38;5;34m128\u001b[0m)    │       \u001b[38;5;34m262,272\u001b[0m │\n",
       "├─────────────────────────────────┼────────────────────────┼───────────────┤\n",
       "│ max_pooling2d_8 (\u001b[38;5;33mMaxPooling2D\u001b[0m)  │ (\u001b[38;5;45mNone\u001b[0m, \u001b[38;5;34m9\u001b[0m, \u001b[38;5;34m9\u001b[0m, \u001b[38;5;34m128\u001b[0m)      │             \u001b[38;5;34m0\u001b[0m │\n",
       "├─────────────────────────────────┼────────────────────────┼───────────────┤\n",
       "│ conv2d_11 (\u001b[38;5;33mConv2D\u001b[0m)              │ (\u001b[38;5;45mNone\u001b[0m, \u001b[38;5;34m6\u001b[0m, \u001b[38;5;34m6\u001b[0m, \u001b[38;5;34m256\u001b[0m)      │       \u001b[38;5;34m524,544\u001b[0m │\n",
       "├─────────────────────────────────┼────────────────────────┼───────────────┤\n",
       "│ flatten_2 (\u001b[38;5;33mFlatten\u001b[0m)             │ (\u001b[38;5;45mNone\u001b[0m, \u001b[38;5;34m9216\u001b[0m)           │             \u001b[38;5;34m0\u001b[0m │\n",
       "├─────────────────────────────────┼────────────────────────┼───────────────┤\n",
       "│ dense_4 (\u001b[38;5;33mDense\u001b[0m)                 │ (\u001b[38;5;45mNone\u001b[0m, \u001b[38;5;34m4096\u001b[0m)           │    \u001b[38;5;34m37,752,832\u001b[0m │\n",
       "└─────────────────────────────────┴────────────────────────┴───────────────┘\n"
      ]
     },
     "metadata": {},
     "output_type": "display_data"
    },
    {
     "data": {
      "text/html": [
       "<pre style=\"white-space:pre;overflow-x:auto;line-height:normal;font-family:Menlo,'DejaVu Sans Mono',consolas,'Courier New',monospace\"><span style=\"font-weight: bold\"> Total params: </span><span style=\"color: #00af00; text-decoration-color: #00af00\">38,960,448</span> (148.62 MB)\n",
       "</pre>\n"
      ],
      "text/plain": [
       "\u001b[1m Total params: \u001b[0m\u001b[38;5;34m38,960,448\u001b[0m (148.62 MB)\n"
      ]
     },
     "metadata": {},
     "output_type": "display_data"
    },
    {
     "data": {
      "text/html": [
       "<pre style=\"white-space:pre;overflow-x:auto;line-height:normal;font-family:Menlo,'DejaVu Sans Mono',consolas,'Courier New',monospace\"><span style=\"font-weight: bold\"> Trainable params: </span><span style=\"color: #00af00; text-decoration-color: #00af00\">38,960,448</span> (148.62 MB)\n",
       "</pre>\n"
      ],
      "text/plain": [
       "\u001b[1m Trainable params: \u001b[0m\u001b[38;5;34m38,960,448\u001b[0m (148.62 MB)\n"
      ]
     },
     "metadata": {},
     "output_type": "display_data"
    },
    {
     "data": {
      "text/html": [
       "<pre style=\"white-space:pre;overflow-x:auto;line-height:normal;font-family:Menlo,'DejaVu Sans Mono',consolas,'Courier New',monospace\"><span style=\"font-weight: bold\"> Non-trainable params: </span><span style=\"color: #00af00; text-decoration-color: #00af00\">0</span> (0.00 B)\n",
       "</pre>\n"
      ],
      "text/plain": [
       "\u001b[1m Non-trainable params: \u001b[0m\u001b[38;5;34m0\u001b[0m (0.00 B)\n"
      ]
     },
     "metadata": {},
     "output_type": "display_data"
    }
   ],
   "source": [
    "\n",
    "mod.summary()"
   ]
  },
  {
   "cell_type": "code",
   "execution_count": 68,
   "id": "a0d6e38e-c686-4947-a736-ea602f437dfd",
   "metadata": {},
   "outputs": [],
   "source": [
    "def make_embedding():\n",
    "    # Refer the Siamese neural network paper for understanding of the Model\n",
    "    # https://www.cs.cmu.edu/~rsalakhu/papers/oneshot1.pdf\n",
    "    # Using the input module from tf keras\n",
    "    inp = Input((100,100,3),name = \"input_img\")\n",
    "\n",
    "    # Block 1\n",
    "    c1 = Conv2D(64,(10,10),activation = 'relu')(inp) # We are writing (inp) at the end so as to pass the input image through the convolution layer\n",
    "    m1 = MaxPooling2D(64,(2,2), padding = 'same')(c1)\n",
    "\n",
    "    # Block 2\n",
    "    c2 = Conv2D(128,(7,7),activation = 'relu')(m1)\n",
    "    m2 = MaxPooling2D(64,(2,2), padding = 'same')(c2)\n",
    "\n",
    "    # Block 3\n",
    "    c3 = Conv2D(128,(4,4),activation = 'relu')(m2)\n",
    "    m3 = MaxPooling2D(64,(2,2),padding = 'same')(c3)\n",
    "\n",
    "    # Final Block\n",
    "    c4 = Conv2D(256,(4,4),activation = 'relu')(m3)\n",
    "    f1 = Flatten()(c4)\n",
    "    d1 = Dense(4096,activation = 'sigmoid')(f1)\n",
    "    return Model(inputs=[inp] ,outputs=[d1],name='embedding') "
   ]
  },
  {
   "cell_type": "code",
   "execution_count": 69,
   "id": "3ac75ae2-95b5-49e8-a00b-5e5f024790a6",
   "metadata": {},
   "outputs": [],
   "source": [
    "embedding = make_embedding()"
   ]
  },
  {
   "cell_type": "code",
   "execution_count": 70,
   "id": "fe4cb6f1-5ed9-4e90-a5d2-6b71e5589f59",
   "metadata": {},
   "outputs": [
    {
     "data": {
      "text/html": [
       "<pre style=\"white-space:pre;overflow-x:auto;line-height:normal;font-family:Menlo,'DejaVu Sans Mono',consolas,'Courier New',monospace\"><span style=\"font-weight: bold\">Model: \"embedding\"</span>\n",
       "</pre>\n"
      ],
      "text/plain": [
       "\u001b[1mModel: \"embedding\"\u001b[0m\n"
      ]
     },
     "metadata": {},
     "output_type": "display_data"
    },
    {
     "data": {
      "text/html": [
       "<pre style=\"white-space:pre;overflow-x:auto;line-height:normal;font-family:Menlo,'DejaVu Sans Mono',consolas,'Courier New',monospace\">┏━━━━━━━━━━━━━━━━━━━━━━━━━━━━━━━━━┳━━━━━━━━━━━━━━━━━━━━━━━━┳━━━━━━━━━━━━━━━┓\n",
       "┃<span style=\"font-weight: bold\"> Layer (type)                    </span>┃<span style=\"font-weight: bold\"> Output Shape           </span>┃<span style=\"font-weight: bold\">       Param # </span>┃\n",
       "┡━━━━━━━━━━━━━━━━━━━━━━━━━━━━━━━━━╇━━━━━━━━━━━━━━━━━━━━━━━━╇━━━━━━━━━━━━━━━┩\n",
       "│ input_img (<span style=\"color: #0087ff; text-decoration-color: #0087ff\">InputLayer</span>)          │ (<span style=\"color: #00d7ff; text-decoration-color: #00d7ff\">None</span>, <span style=\"color: #00af00; text-decoration-color: #00af00\">100</span>, <span style=\"color: #00af00; text-decoration-color: #00af00\">100</span>, <span style=\"color: #00af00; text-decoration-color: #00af00\">3</span>)    │             <span style=\"color: #00af00; text-decoration-color: #00af00\">0</span> │\n",
       "├─────────────────────────────────┼────────────────────────┼───────────────┤\n",
       "│ conv2d_12 (<span style=\"color: #0087ff; text-decoration-color: #0087ff\">Conv2D</span>)              │ (<span style=\"color: #00d7ff; text-decoration-color: #00d7ff\">None</span>, <span style=\"color: #00af00; text-decoration-color: #00af00\">91</span>, <span style=\"color: #00af00; text-decoration-color: #00af00\">91</span>, <span style=\"color: #00af00; text-decoration-color: #00af00\">64</span>)     │        <span style=\"color: #00af00; text-decoration-color: #00af00\">19,264</span> │\n",
       "├─────────────────────────────────┼────────────────────────┼───────────────┤\n",
       "│ max_pooling2d_9 (<span style=\"color: #0087ff; text-decoration-color: #0087ff\">MaxPooling2D</span>)  │ (<span style=\"color: #00d7ff; text-decoration-color: #00d7ff\">None</span>, <span style=\"color: #00af00; text-decoration-color: #00af00\">46</span>, <span style=\"color: #00af00; text-decoration-color: #00af00\">46</span>, <span style=\"color: #00af00; text-decoration-color: #00af00\">64</span>)     │             <span style=\"color: #00af00; text-decoration-color: #00af00\">0</span> │\n",
       "├─────────────────────────────────┼────────────────────────┼───────────────┤\n",
       "│ conv2d_13 (<span style=\"color: #0087ff; text-decoration-color: #0087ff\">Conv2D</span>)              │ (<span style=\"color: #00d7ff; text-decoration-color: #00d7ff\">None</span>, <span style=\"color: #00af00; text-decoration-color: #00af00\">40</span>, <span style=\"color: #00af00; text-decoration-color: #00af00\">40</span>, <span style=\"color: #00af00; text-decoration-color: #00af00\">128</span>)    │       <span style=\"color: #00af00; text-decoration-color: #00af00\">401,536</span> │\n",
       "├─────────────────────────────────┼────────────────────────┼───────────────┤\n",
       "│ max_pooling2d_10 (<span style=\"color: #0087ff; text-decoration-color: #0087ff\">MaxPooling2D</span>) │ (<span style=\"color: #00d7ff; text-decoration-color: #00d7ff\">None</span>, <span style=\"color: #00af00; text-decoration-color: #00af00\">20</span>, <span style=\"color: #00af00; text-decoration-color: #00af00\">20</span>, <span style=\"color: #00af00; text-decoration-color: #00af00\">128</span>)    │             <span style=\"color: #00af00; text-decoration-color: #00af00\">0</span> │\n",
       "├─────────────────────────────────┼────────────────────────┼───────────────┤\n",
       "│ conv2d_14 (<span style=\"color: #0087ff; text-decoration-color: #0087ff\">Conv2D</span>)              │ (<span style=\"color: #00d7ff; text-decoration-color: #00d7ff\">None</span>, <span style=\"color: #00af00; text-decoration-color: #00af00\">17</span>, <span style=\"color: #00af00; text-decoration-color: #00af00\">17</span>, <span style=\"color: #00af00; text-decoration-color: #00af00\">128</span>)    │       <span style=\"color: #00af00; text-decoration-color: #00af00\">262,272</span> │\n",
       "├─────────────────────────────────┼────────────────────────┼───────────────┤\n",
       "│ max_pooling2d_11 (<span style=\"color: #0087ff; text-decoration-color: #0087ff\">MaxPooling2D</span>) │ (<span style=\"color: #00d7ff; text-decoration-color: #00d7ff\">None</span>, <span style=\"color: #00af00; text-decoration-color: #00af00\">9</span>, <span style=\"color: #00af00; text-decoration-color: #00af00\">9</span>, <span style=\"color: #00af00; text-decoration-color: #00af00\">128</span>)      │             <span style=\"color: #00af00; text-decoration-color: #00af00\">0</span> │\n",
       "├─────────────────────────────────┼────────────────────────┼───────────────┤\n",
       "│ conv2d_15 (<span style=\"color: #0087ff; text-decoration-color: #0087ff\">Conv2D</span>)              │ (<span style=\"color: #00d7ff; text-decoration-color: #00d7ff\">None</span>, <span style=\"color: #00af00; text-decoration-color: #00af00\">6</span>, <span style=\"color: #00af00; text-decoration-color: #00af00\">6</span>, <span style=\"color: #00af00; text-decoration-color: #00af00\">256</span>)      │       <span style=\"color: #00af00; text-decoration-color: #00af00\">524,544</span> │\n",
       "├─────────────────────────────────┼────────────────────────┼───────────────┤\n",
       "│ flatten_3 (<span style=\"color: #0087ff; text-decoration-color: #0087ff\">Flatten</span>)             │ (<span style=\"color: #00d7ff; text-decoration-color: #00d7ff\">None</span>, <span style=\"color: #00af00; text-decoration-color: #00af00\">9216</span>)           │             <span style=\"color: #00af00; text-decoration-color: #00af00\">0</span> │\n",
       "├─────────────────────────────────┼────────────────────────┼───────────────┤\n",
       "│ dense_5 (<span style=\"color: #0087ff; text-decoration-color: #0087ff\">Dense</span>)                 │ (<span style=\"color: #00d7ff; text-decoration-color: #00d7ff\">None</span>, <span style=\"color: #00af00; text-decoration-color: #00af00\">4096</span>)           │    <span style=\"color: #00af00; text-decoration-color: #00af00\">37,752,832</span> │\n",
       "└─────────────────────────────────┴────────────────────────┴───────────────┘\n",
       "</pre>\n"
      ],
      "text/plain": [
       "┏━━━━━━━━━━━━━━━━━━━━━━━━━━━━━━━━━┳━━━━━━━━━━━━━━━━━━━━━━━━┳━━━━━━━━━━━━━━━┓\n",
       "┃\u001b[1m \u001b[0m\u001b[1mLayer (type)                   \u001b[0m\u001b[1m \u001b[0m┃\u001b[1m \u001b[0m\u001b[1mOutput Shape          \u001b[0m\u001b[1m \u001b[0m┃\u001b[1m \u001b[0m\u001b[1m      Param #\u001b[0m\u001b[1m \u001b[0m┃\n",
       "┡━━━━━━━━━━━━━━━━━━━━━━━━━━━━━━━━━╇━━━━━━━━━━━━━━━━━━━━━━━━╇━━━━━━━━━━━━━━━┩\n",
       "│ input_img (\u001b[38;5;33mInputLayer\u001b[0m)          │ (\u001b[38;5;45mNone\u001b[0m, \u001b[38;5;34m100\u001b[0m, \u001b[38;5;34m100\u001b[0m, \u001b[38;5;34m3\u001b[0m)    │             \u001b[38;5;34m0\u001b[0m │\n",
       "├─────────────────────────────────┼────────────────────────┼───────────────┤\n",
       "│ conv2d_12 (\u001b[38;5;33mConv2D\u001b[0m)              │ (\u001b[38;5;45mNone\u001b[0m, \u001b[38;5;34m91\u001b[0m, \u001b[38;5;34m91\u001b[0m, \u001b[38;5;34m64\u001b[0m)     │        \u001b[38;5;34m19,264\u001b[0m │\n",
       "├─────────────────────────────────┼────────────────────────┼───────────────┤\n",
       "│ max_pooling2d_9 (\u001b[38;5;33mMaxPooling2D\u001b[0m)  │ (\u001b[38;5;45mNone\u001b[0m, \u001b[38;5;34m46\u001b[0m, \u001b[38;5;34m46\u001b[0m, \u001b[38;5;34m64\u001b[0m)     │             \u001b[38;5;34m0\u001b[0m │\n",
       "├─────────────────────────────────┼────────────────────────┼───────────────┤\n",
       "│ conv2d_13 (\u001b[38;5;33mConv2D\u001b[0m)              │ (\u001b[38;5;45mNone\u001b[0m, \u001b[38;5;34m40\u001b[0m, \u001b[38;5;34m40\u001b[0m, \u001b[38;5;34m128\u001b[0m)    │       \u001b[38;5;34m401,536\u001b[0m │\n",
       "├─────────────────────────────────┼────────────────────────┼───────────────┤\n",
       "│ max_pooling2d_10 (\u001b[38;5;33mMaxPooling2D\u001b[0m) │ (\u001b[38;5;45mNone\u001b[0m, \u001b[38;5;34m20\u001b[0m, \u001b[38;5;34m20\u001b[0m, \u001b[38;5;34m128\u001b[0m)    │             \u001b[38;5;34m0\u001b[0m │\n",
       "├─────────────────────────────────┼────────────────────────┼───────────────┤\n",
       "│ conv2d_14 (\u001b[38;5;33mConv2D\u001b[0m)              │ (\u001b[38;5;45mNone\u001b[0m, \u001b[38;5;34m17\u001b[0m, \u001b[38;5;34m17\u001b[0m, \u001b[38;5;34m128\u001b[0m)    │       \u001b[38;5;34m262,272\u001b[0m │\n",
       "├─────────────────────────────────┼────────────────────────┼───────────────┤\n",
       "│ max_pooling2d_11 (\u001b[38;5;33mMaxPooling2D\u001b[0m) │ (\u001b[38;5;45mNone\u001b[0m, \u001b[38;5;34m9\u001b[0m, \u001b[38;5;34m9\u001b[0m, \u001b[38;5;34m128\u001b[0m)      │             \u001b[38;5;34m0\u001b[0m │\n",
       "├─────────────────────────────────┼────────────────────────┼───────────────┤\n",
       "│ conv2d_15 (\u001b[38;5;33mConv2D\u001b[0m)              │ (\u001b[38;5;45mNone\u001b[0m, \u001b[38;5;34m6\u001b[0m, \u001b[38;5;34m6\u001b[0m, \u001b[38;5;34m256\u001b[0m)      │       \u001b[38;5;34m524,544\u001b[0m │\n",
       "├─────────────────────────────────┼────────────────────────┼───────────────┤\n",
       "│ flatten_3 (\u001b[38;5;33mFlatten\u001b[0m)             │ (\u001b[38;5;45mNone\u001b[0m, \u001b[38;5;34m9216\u001b[0m)           │             \u001b[38;5;34m0\u001b[0m │\n",
       "├─────────────────────────────────┼────────────────────────┼───────────────┤\n",
       "│ dense_5 (\u001b[38;5;33mDense\u001b[0m)                 │ (\u001b[38;5;45mNone\u001b[0m, \u001b[38;5;34m4096\u001b[0m)           │    \u001b[38;5;34m37,752,832\u001b[0m │\n",
       "└─────────────────────────────────┴────────────────────────┴───────────────┘\n"
      ]
     },
     "metadata": {},
     "output_type": "display_data"
    },
    {
     "data": {
      "text/html": [
       "<pre style=\"white-space:pre;overflow-x:auto;line-height:normal;font-family:Menlo,'DejaVu Sans Mono',consolas,'Courier New',monospace\"><span style=\"font-weight: bold\"> Total params: </span><span style=\"color: #00af00; text-decoration-color: #00af00\">38,960,448</span> (148.62 MB)\n",
       "</pre>\n"
      ],
      "text/plain": [
       "\u001b[1m Total params: \u001b[0m\u001b[38;5;34m38,960,448\u001b[0m (148.62 MB)\n"
      ]
     },
     "metadata": {},
     "output_type": "display_data"
    },
    {
     "data": {
      "text/html": [
       "<pre style=\"white-space:pre;overflow-x:auto;line-height:normal;font-family:Menlo,'DejaVu Sans Mono',consolas,'Courier New',monospace\"><span style=\"font-weight: bold\"> Trainable params: </span><span style=\"color: #00af00; text-decoration-color: #00af00\">38,960,448</span> (148.62 MB)\n",
       "</pre>\n"
      ],
      "text/plain": [
       "\u001b[1m Trainable params: \u001b[0m\u001b[38;5;34m38,960,448\u001b[0m (148.62 MB)\n"
      ]
     },
     "metadata": {},
     "output_type": "display_data"
    },
    {
     "data": {
      "text/html": [
       "<pre style=\"white-space:pre;overflow-x:auto;line-height:normal;font-family:Menlo,'DejaVu Sans Mono',consolas,'Courier New',monospace\"><span style=\"font-weight: bold\"> Non-trainable params: </span><span style=\"color: #00af00; text-decoration-color: #00af00\">0</span> (0.00 B)\n",
       "</pre>\n"
      ],
      "text/plain": [
       "\u001b[1m Non-trainable params: \u001b[0m\u001b[38;5;34m0\u001b[0m (0.00 B)\n"
      ]
     },
     "metadata": {},
     "output_type": "display_data"
    }
   ],
   "source": [
    "embedding.summary()"
   ]
  },
  {
   "cell_type": "markdown",
   "id": "9cf4b8b5-2e32-4589-bc02-420eedcf52e5",
   "metadata": {},
   "source": [
    "## 4.2 Build Distance Layer"
   ]
  },
  {
   "cell_type": "code",
   "execution_count": 71,
   "id": "cf55f091-58d9-4dfa-b369-d11597aebfbd",
   "metadata": {},
   "outputs": [],
   "source": [
    "\n",
    "# Siamese L1 Distance class\n",
    "class L1Dist(Layer):\n",
    "    \n",
    "    # Init method - inheritance\n",
    "    def __init__(self, **kwargs):\n",
    "        super().__init__()\n",
    "       \n",
    "    # Magic happens here - similarity calculation\n",
    "    def call(self, input_embedding, validation_embedding):\n",
    "        input_embedding = tf.convert_to_tensor(input_embedding, dtype=tf.float32)\n",
    "        validation_embedding = tf.convert_to_tensor(validation_embedding, dtype=tf.float32)\n",
    "        return tf.math.abs(input_embedding - validation_embedding)"
   ]
  },
  {
   "cell_type": "code",
   "execution_count": 72,
   "id": "3d4a8d4d-57e1-487c-bb6c-c11c1f1c41a0",
   "metadata": {},
   "outputs": [],
   "source": [
    "l1 = L1Dist()"
   ]
  },
  {
   "cell_type": "markdown",
   "id": "ac25d319-b4a6-4842-a2f7-c6f7db89df57",
   "metadata": {},
   "source": [
    "## 4.3 Make Siamese Model"
   ]
  },
  {
   "cell_type": "code",
   "execution_count": 73,
   "id": "ffdc19e9-2cd1-4bc6-82b3-0e186eb66cb5",
   "metadata": {},
   "outputs": [],
   "source": [
    "input_image = Input(name='input_img', shape=(100,100,3))\n",
    "validation_image = Input(name='validation_img', shape=(100,100,3))"
   ]
  },
  {
   "cell_type": "code",
   "execution_count": 74,
   "id": "951575f7-1941-4651-b635-efb0d2f2e700",
   "metadata": {},
   "outputs": [],
   "source": [
    "inp_embedding = embedding(input_image)\n",
    "val_embedding = embedding(validation_image)"
   ]
  },
  {
   "cell_type": "code",
   "execution_count": 75,
   "id": "52fea137-7dca-48d1-9b65-e38f566117a6",
   "metadata": {},
   "outputs": [],
   "source": [
    "siamese_layer = L1Dist()"
   ]
  },
  {
   "cell_type": "code",
   "execution_count": 76,
   "id": "e34486cd-1849-4998-81c6-9739b378ad80",
   "metadata": {},
   "outputs": [],
   "source": [
    "distances = siamese_layer(inp_embedding, val_embedding)"
   ]
  },
  {
   "cell_type": "code",
   "execution_count": 77,
   "id": "311dc1f8-2662-4afb-93e2-3161120793f9",
   "metadata": {},
   "outputs": [],
   "source": [
    "classifier = Dense(1, activation='sigmoid')(distances)"
   ]
  },
  {
   "cell_type": "code",
   "execution_count": 78,
   "id": "019ad9c6-c502-48c3-862d-82cc37e45265",
   "metadata": {},
   "outputs": [
    {
     "data": {
      "text/plain": [
       "<KerasTensor shape=(1, None, 1), dtype=float32, sparse=False, name=keras_tensor_47>"
      ]
     },
     "execution_count": 78,
     "metadata": {},
     "output_type": "execute_result"
    }
   ],
   "source": [
    "classifier"
   ]
  },
  {
   "cell_type": "code",
   "execution_count": 79,
   "id": "97f7aae1-8632-4528-b2c4-52564621b6b6",
   "metadata": {},
   "outputs": [],
   "source": [
    "siamese_network = Model(inputs=[input_image, validation_image], outputs=classifier, name='SiameseNetwork')"
   ]
  },
  {
   "cell_type": "code",
   "execution_count": 80,
   "id": "1edbd72c-36ff-434f-bebc-433fc92d1233",
   "metadata": {},
   "outputs": [
    {
     "data": {
      "text/html": [
       "<pre style=\"white-space:pre;overflow-x:auto;line-height:normal;font-family:Menlo,'DejaVu Sans Mono',consolas,'Courier New',monospace\"><span style=\"font-weight: bold\">Model: \"SiameseNetwork\"</span>\n",
       "</pre>\n"
      ],
      "text/plain": [
       "\u001b[1mModel: \"SiameseNetwork\"\u001b[0m\n"
      ]
     },
     "metadata": {},
     "output_type": "display_data"
    },
    {
     "data": {
      "text/html": [
       "<pre style=\"white-space:pre;overflow-x:auto;line-height:normal;font-family:Menlo,'DejaVu Sans Mono',consolas,'Courier New',monospace\">┏━━━━━━━━━━━━━━━━━━━━━┳━━━━━━━━━━━━━━━━━━━┳━━━━━━━━━━━━┳━━━━━━━━━━━━━━━━━━━┓\n",
       "┃<span style=\"font-weight: bold\"> Layer (type)        </span>┃<span style=\"font-weight: bold\"> Output Shape      </span>┃<span style=\"font-weight: bold\">    Param # </span>┃<span style=\"font-weight: bold\"> Connected to      </span>┃\n",
       "┡━━━━━━━━━━━━━━━━━━━━━╇━━━━━━━━━━━━━━━━━━━╇━━━━━━━━━━━━╇━━━━━━━━━━━━━━━━━━━┩\n",
       "│ input_img           │ (<span style=\"color: #00d7ff; text-decoration-color: #00d7ff\">None</span>, <span style=\"color: #00af00; text-decoration-color: #00af00\">100</span>, <span style=\"color: #00af00; text-decoration-color: #00af00\">100</span>,  │          <span style=\"color: #00af00; text-decoration-color: #00af00\">0</span> │ -                 │\n",
       "│ (<span style=\"color: #0087ff; text-decoration-color: #0087ff\">InputLayer</span>)        │ <span style=\"color: #00af00; text-decoration-color: #00af00\">3</span>)                │            │                   │\n",
       "├─────────────────────┼───────────────────┼────────────┼───────────────────┤\n",
       "│ validation_img      │ (<span style=\"color: #00d7ff; text-decoration-color: #00d7ff\">None</span>, <span style=\"color: #00af00; text-decoration-color: #00af00\">100</span>, <span style=\"color: #00af00; text-decoration-color: #00af00\">100</span>,  │          <span style=\"color: #00af00; text-decoration-color: #00af00\">0</span> │ -                 │\n",
       "│ (<span style=\"color: #0087ff; text-decoration-color: #0087ff\">InputLayer</span>)        │ <span style=\"color: #00af00; text-decoration-color: #00af00\">3</span>)                │            │                   │\n",
       "├─────────────────────┼───────────────────┼────────────┼───────────────────┤\n",
       "│ embedding           │ (<span style=\"color: #00d7ff; text-decoration-color: #00d7ff\">None</span>, <span style=\"color: #00af00; text-decoration-color: #00af00\">4096</span>)      │ <span style=\"color: #00af00; text-decoration-color: #00af00\">38,960,448</span> │ input_img[<span style=\"color: #00af00; text-decoration-color: #00af00\">0</span>][<span style=\"color: #00af00; text-decoration-color: #00af00\">0</span>],  │\n",
       "│ (<span style=\"color: #0087ff; text-decoration-color: #0087ff\">Functional</span>)        │                   │            │ validation_img[<span style=\"color: #00af00; text-decoration-color: #00af00\">0</span>… │\n",
       "├─────────────────────┼───────────────────┼────────────┼───────────────────┤\n",
       "│ l1_dist_4 (<span style=\"color: #0087ff; text-decoration-color: #0087ff\">L1Dist</span>)  │ (<span style=\"color: #00af00; text-decoration-color: #00af00\">1</span>, <span style=\"color: #00d7ff; text-decoration-color: #00d7ff\">None</span>, <span style=\"color: #00af00; text-decoration-color: #00af00\">4096</span>)   │          <span style=\"color: #00af00; text-decoration-color: #00af00\">0</span> │ embedding[<span style=\"color: #00af00; text-decoration-color: #00af00\">0</span>][<span style=\"color: #00af00; text-decoration-color: #00af00\">0</span>],  │\n",
       "│                     │                   │            │ embedding[<span style=\"color: #00af00; text-decoration-color: #00af00\">1</span>][<span style=\"color: #00af00; text-decoration-color: #00af00\">0</span>]   │\n",
       "├─────────────────────┼───────────────────┼────────────┼───────────────────┤\n",
       "│ dense_6 (<span style=\"color: #0087ff; text-decoration-color: #0087ff\">Dense</span>)     │ (<span style=\"color: #00af00; text-decoration-color: #00af00\">1</span>, <span style=\"color: #00d7ff; text-decoration-color: #00d7ff\">None</span>, <span style=\"color: #00af00; text-decoration-color: #00af00\">1</span>)      │      <span style=\"color: #00af00; text-decoration-color: #00af00\">4,097</span> │ l1_dist_4[<span style=\"color: #00af00; text-decoration-color: #00af00\">0</span>][<span style=\"color: #00af00; text-decoration-color: #00af00\">0</span>]   │\n",
       "└─────────────────────┴───────────────────┴────────────┴───────────────────┘\n",
       "</pre>\n"
      ],
      "text/plain": [
       "┏━━━━━━━━━━━━━━━━━━━━━┳━━━━━━━━━━━━━━━━━━━┳━━━━━━━━━━━━┳━━━━━━━━━━━━━━━━━━━┓\n",
       "┃\u001b[1m \u001b[0m\u001b[1mLayer (type)       \u001b[0m\u001b[1m \u001b[0m┃\u001b[1m \u001b[0m\u001b[1mOutput Shape     \u001b[0m\u001b[1m \u001b[0m┃\u001b[1m \u001b[0m\u001b[1m   Param #\u001b[0m\u001b[1m \u001b[0m┃\u001b[1m \u001b[0m\u001b[1mConnected to     \u001b[0m\u001b[1m \u001b[0m┃\n",
       "┡━━━━━━━━━━━━━━━━━━━━━╇━━━━━━━━━━━━━━━━━━━╇━━━━━━━━━━━━╇━━━━━━━━━━━━━━━━━━━┩\n",
       "│ input_img           │ (\u001b[38;5;45mNone\u001b[0m, \u001b[38;5;34m100\u001b[0m, \u001b[38;5;34m100\u001b[0m,  │          \u001b[38;5;34m0\u001b[0m │ -                 │\n",
       "│ (\u001b[38;5;33mInputLayer\u001b[0m)        │ \u001b[38;5;34m3\u001b[0m)                │            │                   │\n",
       "├─────────────────────┼───────────────────┼────────────┼───────────────────┤\n",
       "│ validation_img      │ (\u001b[38;5;45mNone\u001b[0m, \u001b[38;5;34m100\u001b[0m, \u001b[38;5;34m100\u001b[0m,  │          \u001b[38;5;34m0\u001b[0m │ -                 │\n",
       "│ (\u001b[38;5;33mInputLayer\u001b[0m)        │ \u001b[38;5;34m3\u001b[0m)                │            │                   │\n",
       "├─────────────────────┼───────────────────┼────────────┼───────────────────┤\n",
       "│ embedding           │ (\u001b[38;5;45mNone\u001b[0m, \u001b[38;5;34m4096\u001b[0m)      │ \u001b[38;5;34m38,960,448\u001b[0m │ input_img[\u001b[38;5;34m0\u001b[0m][\u001b[38;5;34m0\u001b[0m],  │\n",
       "│ (\u001b[38;5;33mFunctional\u001b[0m)        │                   │            │ validation_img[\u001b[38;5;34m0\u001b[0m… │\n",
       "├─────────────────────┼───────────────────┼────────────┼───────────────────┤\n",
       "│ l1_dist_4 (\u001b[38;5;33mL1Dist\u001b[0m)  │ (\u001b[38;5;34m1\u001b[0m, \u001b[38;5;45mNone\u001b[0m, \u001b[38;5;34m4096\u001b[0m)   │          \u001b[38;5;34m0\u001b[0m │ embedding[\u001b[38;5;34m0\u001b[0m][\u001b[38;5;34m0\u001b[0m],  │\n",
       "│                     │                   │            │ embedding[\u001b[38;5;34m1\u001b[0m][\u001b[38;5;34m0\u001b[0m]   │\n",
       "├─────────────────────┼───────────────────┼────────────┼───────────────────┤\n",
       "│ dense_6 (\u001b[38;5;33mDense\u001b[0m)     │ (\u001b[38;5;34m1\u001b[0m, \u001b[38;5;45mNone\u001b[0m, \u001b[38;5;34m1\u001b[0m)      │      \u001b[38;5;34m4,097\u001b[0m │ l1_dist_4[\u001b[38;5;34m0\u001b[0m][\u001b[38;5;34m0\u001b[0m]   │\n",
       "└─────────────────────┴───────────────────┴────────────┴───────────────────┘\n"
      ]
     },
     "metadata": {},
     "output_type": "display_data"
    },
    {
     "data": {
      "text/html": [
       "<pre style=\"white-space:pre;overflow-x:auto;line-height:normal;font-family:Menlo,'DejaVu Sans Mono',consolas,'Courier New',monospace\"><span style=\"font-weight: bold\"> Total params: </span><span style=\"color: #00af00; text-decoration-color: #00af00\">38,964,545</span> (148.64 MB)\n",
       "</pre>\n"
      ],
      "text/plain": [
       "\u001b[1m Total params: \u001b[0m\u001b[38;5;34m38,964,545\u001b[0m (148.64 MB)\n"
      ]
     },
     "metadata": {},
     "output_type": "display_data"
    },
    {
     "data": {
      "text/html": [
       "<pre style=\"white-space:pre;overflow-x:auto;line-height:normal;font-family:Menlo,'DejaVu Sans Mono',consolas,'Courier New',monospace\"><span style=\"font-weight: bold\"> Trainable params: </span><span style=\"color: #00af00; text-decoration-color: #00af00\">38,964,545</span> (148.64 MB)\n",
       "</pre>\n"
      ],
      "text/plain": [
       "\u001b[1m Trainable params: \u001b[0m\u001b[38;5;34m38,964,545\u001b[0m (148.64 MB)\n"
      ]
     },
     "metadata": {},
     "output_type": "display_data"
    },
    {
     "data": {
      "text/html": [
       "<pre style=\"white-space:pre;overflow-x:auto;line-height:normal;font-family:Menlo,'DejaVu Sans Mono',consolas,'Courier New',monospace\"><span style=\"font-weight: bold\"> Non-trainable params: </span><span style=\"color: #00af00; text-decoration-color: #00af00\">0</span> (0.00 B)\n",
       "</pre>\n"
      ],
      "text/plain": [
       "\u001b[1m Non-trainable params: \u001b[0m\u001b[38;5;34m0\u001b[0m (0.00 B)\n"
      ]
     },
     "metadata": {},
     "output_type": "display_data"
    }
   ],
   "source": [
    "siamese_network.summary()"
   ]
  },
  {
   "cell_type": "code",
   "execution_count": 81,
   "id": "b7ea8794-78c6-47c9-9b05-0430e99d3eab",
   "metadata": {},
   "outputs": [],
   "source": [
    "def make_siamese_model():\n",
    "\n",
    "    # Handle Input\n",
    "\n",
    "    # Anchor image input in the network\n",
    "    input_img = Input(name = 'input_img',shape = (100,100,3))\n",
    "\n",
    "    # Validation image input in the network\n",
    "    validation_img = Input(name = 'validation_img',shape = (100,100,3))\n",
    "\n",
    "    # Combine siamese distance components\n",
    "    siamese_layer = L1Dist()\n",
    "    siamese_layer._name = 'distance'\n",
    "    distances = siamese_layer(embedding(input_img),embedding(validation_img))\n",
    "\n",
    "    # Classification of layer\n",
    "    classifier = Dense(1,activation = 'sigmoid')(distances)\n",
    "\n",
    "    return Model(inputs = [input_img, validation_img], outputs = classifier,name='SiameseNetwork')"
   ]
  },
  {
   "cell_type": "code",
   "execution_count": 82,
   "id": "f4ed90dc-fada-4bb3-8eaa-5f439c362939",
   "metadata": {},
   "outputs": [],
   "source": [
    "siamese_model = make_siamese_model()"
   ]
  },
  {
   "cell_type": "markdown",
   "id": "0bdb256b-9fa6-4cf6-b84c-fcf9d66f4b59",
   "metadata": {},
   "source": [
    "# Training"
   ]
  },
  {
   "cell_type": "markdown",
   "id": "1a90b8f3-a80a-41db-baaf-2ca05338bec4",
   "metadata": {},
   "source": [
    "## 5.1 Setup Loss and Optimiser"
   ]
  },
  {
   "cell_type": "code",
   "execution_count": 83,
   "id": "d1439c73-b5b6-48f2-9266-11195e660320",
   "metadata": {},
   "outputs": [],
   "source": [
    "binary_cross_loss = tf.losses.BinaryCrossentropy()"
   ]
  },
  {
   "cell_type": "code",
   "execution_count": 84,
   "id": "d7d82909-bb67-4de9-9c77-8810f7a2da7f",
   "metadata": {},
   "outputs": [],
   "source": [
    "opt = tf.keras.optimizers.Adam(1e-4) # 1e-4 == 0.0001"
   ]
  },
  {
   "cell_type": "markdown",
   "id": "2790810f-f45f-461d-a122-b1ded5f645a5",
   "metadata": {},
   "source": [
    "## 5.2 Establish Checkpoints"
   ]
  },
  {
   "cell_type": "code",
   "execution_count": 85,
   "id": "73cc4297-3a6e-42ad-b9ce-09094a86b6ef",
   "metadata": {},
   "outputs": [],
   "source": [
    "checkpoint_dir = './training_checkpoints'\n",
    "checkpoint_prefix = os.path.join(checkpoint_dir,'ckpt')\n",
    "checkpoint = tf.train.Checkpoint(opt = opt, siamese_model = siamese_model)"
   ]
  },
  {
   "cell_type": "code",
   "execution_count": 86,
   "id": "837101fd-fadd-4ff9-ac6a-6cd4e04952a5",
   "metadata": {},
   "outputs": [],
   "source": [
    "test_batch = train_data.as_numpy_iterator()"
   ]
  },
  {
   "cell_type": "code",
   "execution_count": 87,
   "id": "158ccb0f-c2a6-4a66-b9d2-a8ee2a958d98",
   "metadata": {},
   "outputs": [],
   "source": [
    "batch_1 = test_batch.next()"
   ]
  },
  {
   "cell_type": "code",
   "execution_count": 88,
   "id": "621ce2fc-f823-4f18-9ec6-3fcfb4259602",
   "metadata": {},
   "outputs": [
    {
     "data": {
      "text/plain": [
       "array([[[[0.6852941 , 0.66568625, 0.64215684],\n",
       "         [0.68235296, 0.6666667 , 0.6313726 ],\n",
       "         [0.6754902 , 0.6598039 , 0.6245098 ],\n",
       "         ...,\n",
       "         [0.67941177, 0.65588236, 0.66568625],\n",
       "         [0.6813725 , 0.6490196 , 0.66764706],\n",
       "         [0.6872549 , 0.6519608 , 0.67156863]],\n",
       "\n",
       "        [[0.68333334, 0.6637255 , 0.6401961 ],\n",
       "         [0.68235296, 0.66568625, 0.6333333 ],\n",
       "         [0.67941177, 0.6634804 , 0.62892157],\n",
       "         ...,\n",
       "         [0.6811274 , 0.6546569 , 0.66544116],\n",
       "         [0.6840686 , 0.6509804 , 0.6698529 ],\n",
       "         [0.68333334, 0.6480392 , 0.66764706]],\n",
       "\n",
       "        [[0.68039215, 0.6666667 , 0.6401961 ],\n",
       "         [0.67941177, 0.6598039 , 0.6362745 ],\n",
       "         [0.6838235 , 0.6605392 , 0.63480395],\n",
       "         ...,\n",
       "         [0.6901961 , 0.654902  , 0.66862744],\n",
       "         [0.68921566, 0.65392154, 0.6735294 ],\n",
       "         [0.6862745 , 0.6509804 , 0.67058825]],\n",
       "\n",
       "        ...,\n",
       "\n",
       "        [[0.7078431 , 0.68039215, 0.7078431 ],\n",
       "         [0.73357844, 0.7080882 , 0.7348039 ],\n",
       "         [0.70098037, 0.6813725 , 0.7051471 ],\n",
       "         ...,\n",
       "         [0.7639706 , 0.75416666, 0.782598  ],\n",
       "         [0.79044116, 0.7865196 , 0.81789213],\n",
       "         [0.8156863 , 0.8098039 , 0.85      ]],\n",
       "\n",
       "        [[0.6938726 , 0.6664216 , 0.6968137 ],\n",
       "         [0.71838236, 0.69142157, 0.72181374],\n",
       "         [0.7       , 0.6789216 , 0.70637256],\n",
       "         ...,\n",
       "         [0.7414216 , 0.73014706, 0.75784314],\n",
       "         [0.80490196, 0.7995098 , 0.8301471 ],\n",
       "         [0.8098039 , 0.8098039 , 0.84117645]],\n",
       "\n",
       "        [[0.7120098 , 0.6845588 , 0.71593136],\n",
       "         [0.71568626, 0.6882353 , 0.71960783],\n",
       "         [0.7088235 , 0.6813725 , 0.7127451 ],\n",
       "         ...,\n",
       "         [0.6960784 , 0.6843137 , 0.7117647 ],\n",
       "         [0.7892157 , 0.78333336, 0.8137255 ],\n",
       "         [0.8117647 , 0.8117647 , 0.84313726]]],\n",
       "\n",
       "\n",
       "       [[[0.6843137 , 0.672549  , 0.6372549 ],\n",
       "         [0.6845588 , 0.66887254, 0.6335784 ],\n",
       "         [0.6752451 , 0.65661764, 0.63014704],\n",
       "         ...,\n",
       "         [0.68039215, 0.6480392 , 0.65882355],\n",
       "         [0.6745098 , 0.6509804 , 0.65882355],\n",
       "         [0.6754902 , 0.6519608 , 0.6519608 ]],\n",
       "\n",
       "        [[0.69215685, 0.6764706 , 0.64117646],\n",
       "         [0.6904412 , 0.6730392 , 0.6428922 ],\n",
       "         [0.6843137 , 0.6647059 , 0.64117646],\n",
       "         ...,\n",
       "         [0.6933824 , 0.6580882 , 0.6718137 ],\n",
       "         [0.68284315, 0.65416664, 0.6642157 ],\n",
       "         [0.6735294 , 0.64705884, 0.65588236]],\n",
       "\n",
       "        [[0.7019608 , 0.68333334, 0.65686274],\n",
       "         [0.70098037, 0.6813725 , 0.6578431 ],\n",
       "         [0.6970588 , 0.67745095, 0.65392154],\n",
       "         ...,\n",
       "         [0.6909314 , 0.65563726, 0.6752451 ],\n",
       "         [0.6862745 , 0.6509804 , 0.6647059 ],\n",
       "         [0.68235296, 0.64705884, 0.65882355]],\n",
       "\n",
       "        ...,\n",
       "\n",
       "        [[0.7026961 , 0.6811274 , 0.7056373 ],\n",
       "         [0.6906863 , 0.6632353 , 0.6906863 ],\n",
       "         [0.6840686 , 0.65661764, 0.6840686 ],\n",
       "         ...,\n",
       "         [0.654902  , 0.63529414, 0.6546569 ],\n",
       "         [0.67965686, 0.660049  , 0.6875    ],\n",
       "         [0.7647059 , 0.75      , 0.7862745 ]],\n",
       "\n",
       "        [[0.7107843 , 0.68333334, 0.7107843 ],\n",
       "         [0.7257353 , 0.6982843 , 0.7257353 ],\n",
       "         [0.6737745 , 0.6463235 , 0.6737745 ],\n",
       "         ...,\n",
       "         [0.6661765 , 0.64656866, 0.67034316],\n",
       "         [0.6752451 , 0.65563726, 0.68235296],\n",
       "         [0.73382354, 0.7132353 , 0.7436274 ]],\n",
       "\n",
       "        [[0.6862745 , 0.6627451 , 0.6784314 ],\n",
       "         [0.6982843 , 0.6718137 , 0.6884804 ],\n",
       "         [0.685049  , 0.64681375, 0.6752451 ],\n",
       "         ...,\n",
       "         [0.6666667 , 0.64705884, 0.67058825],\n",
       "         [0.66764706, 0.6480392 , 0.67156863],\n",
       "         [0.6970588 , 0.67745095, 0.70098037]]],\n",
       "\n",
       "\n",
       "       [[[0.6904412 , 0.6551471 , 0.63553923],\n",
       "         [0.6845588 , 0.6492647 , 0.62965685],\n",
       "         [0.68235296, 0.64705884, 0.627451  ],\n",
       "         ...,\n",
       "         [0.6862745 , 0.6431373 , 0.65882355],\n",
       "         [0.6784314 , 0.6382353 , 0.64509803],\n",
       "         [0.6732843 , 0.6340686 , 0.6379902 ]],\n",
       "\n",
       "        [[0.6852941 , 0.6519608 , 0.6313726 ],\n",
       "         [0.6852941 , 0.6519608 , 0.6313726 ],\n",
       "         [0.67941177, 0.6460784 , 0.6254902 ],\n",
       "         ...,\n",
       "         [0.6862745 , 0.6431373 , 0.65882355],\n",
       "         [0.6786765 , 0.6392157 , 0.6460784 ],\n",
       "         [0.6813725 , 0.6431373 , 0.64705884]],\n",
       "\n",
       "        [[0.6870098 , 0.65955883, 0.6360294 ],\n",
       "         [0.6816176 , 0.65416664, 0.6306372 ],\n",
       "         [0.68235296, 0.654902  , 0.6313726 ],\n",
       "         ...,\n",
       "         [0.6862745 , 0.6490196 , 0.6617647 ],\n",
       "         [0.6786765 , 0.6428922 , 0.6490196 ],\n",
       "         [0.67745095, 0.64215684, 0.6460784 ]],\n",
       "\n",
       "        ...,\n",
       "\n",
       "        [[0.7267157 , 0.6992647 , 0.7267157 ],\n",
       "         [0.7083333 , 0.6786765 , 0.7078431 ],\n",
       "         [0.7269608 , 0.6906863 , 0.725     ],\n",
       "         ...,\n",
       "         [0.70098037, 0.68333334, 0.7127451 ],\n",
       "         [0.79583335, 0.78406864, 0.81936276],\n",
       "         [0.8127451 , 0.8009804 , 0.8362745 ]],\n",
       "\n",
       "        [[0.74313724, 0.71568626, 0.74313724],\n",
       "         [0.72843134, 0.70098037, 0.7294118 ],\n",
       "         [0.6906863 , 0.6632353 , 0.69460785],\n",
       "         ...,\n",
       "         [0.7004902 , 0.68063724, 0.7107843 ],\n",
       "         [0.74215686, 0.72818625, 0.7642157 ],\n",
       "         [0.79607844, 0.78431374, 0.8254902 ]],\n",
       "\n",
       "        [[0.7321078 , 0.70465684, 0.7321078 ],\n",
       "         [0.7169118 , 0.6894608 , 0.71789217],\n",
       "         [0.70416665, 0.6767157 , 0.7080882 ],\n",
       "         ...,\n",
       "         [0.66838235, 0.6487745 , 0.6762255 ],\n",
       "         [0.7127451 , 0.6990196 , 0.7323529 ],\n",
       "         [0.7943627 , 0.782598  , 0.8257353 ]]],\n",
       "\n",
       "\n",
       "       ...,\n",
       "\n",
       "\n",
       "       [[[0.6987745 , 0.6791667 , 0.65563726],\n",
       "         [0.689951  , 0.67034316, 0.64681375],\n",
       "         [0.68235296, 0.66862744, 0.64215684],\n",
       "         ...,\n",
       "         [0.6911765 , 0.65882355, 0.6696078 ],\n",
       "         [0.68235296, 0.65882355, 0.6666667 ],\n",
       "         [0.67941177, 0.65588236, 0.6637255 ]],\n",
       "\n",
       "        [[0.6997549 , 0.68014705, 0.65661764],\n",
       "         [0.69730395, 0.67769605, 0.65416664],\n",
       "         [0.69509804, 0.6754902 , 0.6519608 ],\n",
       "         ...,\n",
       "         [0.6963235 , 0.6639706 , 0.6767157 ],\n",
       "         [0.6882353 , 0.6647059 , 0.6745098 ],\n",
       "         [0.68259805, 0.65906864, 0.6669118 ]],\n",
       "\n",
       "        [[0.7107843 , 0.6852941 , 0.6617647 ],\n",
       "         [0.70612746, 0.68210787, 0.65857846],\n",
       "         [0.6987745 , 0.6791667 , 0.65563726],\n",
       "         ...,\n",
       "         [0.7       , 0.66764706, 0.6862745 ],\n",
       "         [0.69191176, 0.66838235, 0.6840686 ],\n",
       "         [0.68235296, 0.65882355, 0.672549  ]],\n",
       "\n",
       "        ...,\n",
       "\n",
       "        [[0.7132353 , 0.6906863 , 0.7269608 ],\n",
       "         [0.70098037, 0.6813725 , 0.7088235 ],\n",
       "         [0.7232843 , 0.7022059 , 0.7294118 ],\n",
       "         ...,\n",
       "         [0.7654412 , 0.7556372 , 0.78995097],\n",
       "         [0.79338235, 0.78210783, 0.8112745 ],\n",
       "         [0.7740196 , 0.7465686 , 0.77794117]],\n",
       "\n",
       "        [[0.6992647 , 0.67965686, 0.70416665],\n",
       "         [0.7105392 , 0.6894608 , 0.7144608 ],\n",
       "         [0.6970588 , 0.67009807, 0.69730395],\n",
       "         ...,\n",
       "         [0.74289215, 0.7389706 , 0.76887256],\n",
       "         [0.7855392 , 0.7757353 , 0.80269605],\n",
       "         [0.7764706 , 0.7563726 , 0.78406864]],\n",
       "\n",
       "        [[0.685049  , 0.66544116, 0.6811274 ],\n",
       "         [0.7       , 0.6764706 , 0.69215685],\n",
       "         [0.69215685, 0.6598039 , 0.6784314 ],\n",
       "         ...,\n",
       "         [0.6852941 , 0.6813725 , 0.7107843 ],\n",
       "         [0.75392157, 0.7441176 , 0.7705882 ],\n",
       "         [0.7754902 , 0.7558824 , 0.7794118 ]]],\n",
       "\n",
       "\n",
       "       [[[0.68333334, 0.65588236, 0.6166667 ],\n",
       "         [0.6813725 , 0.65392154, 0.622549  ],\n",
       "         [0.68063724, 0.65318626, 0.6276961 ],\n",
       "         ...,\n",
       "         [0.6862745 , 0.6431373 , 0.65882355],\n",
       "         [0.6816176 , 0.63848037, 0.660049  ],\n",
       "         [0.68235296, 0.6392157 , 0.6627451 ]],\n",
       "\n",
       "        [[0.6875    , 0.6629902 , 0.6247549 ],\n",
       "         [0.68014705, 0.65539217, 0.6252451 ],\n",
       "         [0.6779412 , 0.6509804 , 0.627451  ],\n",
       "         ...,\n",
       "         [0.68897057, 0.6477941 , 0.6625    ],\n",
       "         [0.6813725 , 0.6401961 , 0.6607843 ],\n",
       "         [0.6852941 , 0.64411765, 0.6666667 ]],\n",
       "\n",
       "        [[0.6745098 , 0.65882355, 0.62352943],\n",
       "         [0.6735294 , 0.65686274, 0.6245098 ],\n",
       "         [0.6757353 , 0.6546569 , 0.6311275 ],\n",
       "         ...,\n",
       "         [0.6870098 , 0.6517157 , 0.6634804 ],\n",
       "         [0.6813725 , 0.6460784 , 0.65931374],\n",
       "         [0.6862745 , 0.6509804 , 0.67058825]],\n",
       "\n",
       "        ...,\n",
       "\n",
       "        [[0.67132354, 0.6360294 , 0.6497549 ],\n",
       "         [0.71568626, 0.6789216 , 0.6992647 ],\n",
       "         [0.7367647 , 0.69485295, 0.7240196 ],\n",
       "         ...,\n",
       "         [0.8218137 , 0.8004902 , 0.8389706 ],\n",
       "         [0.76936275, 0.7465686 , 0.78357846],\n",
       "         [0.7490196 , 0.72156864, 0.7529412 ]],\n",
       "\n",
       "        [[0.66740197, 0.63210785, 0.6517157 ],\n",
       "         [0.69289213, 0.65686274, 0.6786765 ],\n",
       "         [0.7176471 , 0.6786765 , 0.70931375],\n",
       "         ...,\n",
       "         [0.825     , 0.8102941 , 0.84656864],\n",
       "         [0.78039217, 0.75980395, 0.79019606],\n",
       "         [0.75171566, 0.7242647 , 0.7556372 ]],\n",
       "\n",
       "        [[0.65686274, 0.6215686 , 0.64117646],\n",
       "         [0.68333334, 0.64705884, 0.6696078 ],\n",
       "         [0.7078431 , 0.67745095, 0.7058824 ],\n",
       "         ...,\n",
       "         [0.8186275 , 0.8039216 , 0.8401961 ],\n",
       "         [0.79313725, 0.76666665, 0.8       ],\n",
       "         [0.75490195, 0.72745097, 0.7588235 ]]],\n",
       "\n",
       "\n",
       "       [[[0.6843137 , 0.65686274, 0.6254902 ],\n",
       "         [0.68039215, 0.6509804 , 0.62058824],\n",
       "         [0.6855392 , 0.6502451 , 0.6227941 ],\n",
       "         ...,\n",
       "         [0.7745098 , 0.75784314, 0.77254903],\n",
       "         [0.76642156, 0.7585784 , 0.7703431 ],\n",
       "         [0.7656863 , 0.75784314, 0.76960784]],\n",
       "\n",
       "        [[0.6852941 , 0.6578431 , 0.6245098 ],\n",
       "         [0.68333334, 0.65392154, 0.6215686 ],\n",
       "         [0.689951  , 0.6546569 , 0.6252451 ],\n",
       "         ...,\n",
       "         [0.7801471 , 0.76053923, 0.78406864],\n",
       "         [0.77156866, 0.7504902 , 0.7747549 ],\n",
       "         [0.7502451 , 0.7286765 , 0.7531863 ]],\n",
       "\n",
       "        [[0.6813725 , 0.65392154, 0.61470586],\n",
       "         [0.6784314 , 0.6490196 , 0.6107843 ],\n",
       "         [0.6852941 , 0.65      , 0.61470586],\n",
       "         ...,\n",
       "         [0.75710785, 0.7316176 , 0.75808823],\n",
       "         [0.75147057, 0.71789217, 0.7473039 ],\n",
       "         [0.7480392 , 0.7147059 , 0.7362745 ]],\n",
       "\n",
       "        ...,\n",
       "\n",
       "        [[0.85539216, 0.82303923, 0.8093137 ],\n",
       "         [0.8397059 , 0.8063725 , 0.79583335],\n",
       "         [0.8693628 , 0.83161765, 0.8240196 ],\n",
       "         ...,\n",
       "         [0.41985294, 0.37279412, 0.46495098],\n",
       "         [0.41029412, 0.36764705, 0.4598039 ],\n",
       "         [0.3737745 , 0.34558824, 0.4242647 ]],\n",
       "\n",
       "        [[0.89509803, 0.85      , 0.8480392 ],\n",
       "         [0.8512255 , 0.8120098 , 0.81397057],\n",
       "         [0.64093137, 0.5987745 , 0.6159314 ],\n",
       "         ...,\n",
       "         [0.4252451 , 0.3781863 , 0.4629902 ],\n",
       "         [0.4642157 , 0.41421568, 0.4867647 ],\n",
       "         [0.425     , 0.38578433, 0.45416668]],\n",
       "\n",
       "        [[0.5806373 , 0.52843136, 0.5477941 ],\n",
       "         [0.53161764, 0.48235294, 0.5127451 ],\n",
       "         [0.5154412 , 0.46838236, 0.5090686 ],\n",
       "         ...,\n",
       "         [0.39485294, 0.35563725, 0.42916667],\n",
       "         [0.4370098 , 0.3867647 , 0.4512255 ],\n",
       "         [0.44436276, 0.39338234, 0.46004903]]]], dtype=float32)"
      ]
     },
     "execution_count": 88,
     "metadata": {},
     "output_type": "execute_result"
    }
   ],
   "source": [
    "batch_1[0]"
   ]
  },
  {
   "cell_type": "markdown",
   "id": "ddf906d1-8df5-4404-9097-9379ac1870a2",
   "metadata": {},
   "source": [
    "## 5.3 Train step function"
   ]
  },
  {
   "cell_type": "code",
   "execution_count": 89,
   "id": "126d848e-3c4c-4692-8957-acb533f63632",
   "metadata": {},
   "outputs": [],
   "source": [
    "@tf.function\n",
    "def train_step(batch):\n",
    "    with tf.GradientTape() as tape:\n",
    "        # Get the anchor and positive/negative image\n",
    "        X = batch[0:2]\n",
    "        # Get the label\n",
    "        y = batch[2]\n",
    "        \n",
    "        # forward pass\n",
    "        yhat = siamese_model(X,training = True)\n",
    "        # Reshape y to match yhat's shape\n",
    "        y = tf.reshape(y, yhat.shape)\n",
    "        # calculate loss\n",
    "        loss = binary_cross_loss(y,yhat)\n",
    "    print(loss)\n",
    "    # calculate gradient\n",
    "    grad = tape.gradient(loss,siamese_model.trainable_variables)\n",
    "\n",
    "    # calculate updated weights and apply to siamese model\n",
    "    opt.apply_gradients(zip(grad,siamese_model.trainable_variables))\n",
    "    return loss\n",
    "        "
   ]
  },
  {
   "cell_type": "markdown",
   "id": "b3f1a817-11ed-41ea-82d6-6abf89088cc1",
   "metadata": {},
   "source": [
    "## 5.4 Build Training loop"
   ]
  },
  {
   "cell_type": "code",
   "execution_count": 90,
   "id": "782bd355-77f1-426a-ade8-8514e8cb03a2",
   "metadata": {},
   "outputs": [],
   "source": [
    "def train(data, EPOCHS):\n",
    "    # Loop through epochs\n",
    "    for epoch in range(1,EPOCHS+1):\n",
    "        print('\\n Epoch {}/{}'.format(epoch,EPOCHS))\n",
    "        progbar = tf.keras.utils.Progbar(len(data))\n",
    "        \n",
    "        # loop through each batch\n",
    "        for idx, batch in enumerate(data):\n",
    "            # run train step here\n",
    "            train_step(batch)\n",
    "            progbar.update(idx+1)\n",
    "        # save checkpoints\n",
    "        if epoch%10==0:\n",
    "            checkpoint.save(file_prefix=checkpoint_prefix)\n",
    "\n",
    "# Reshape y to match yhat's shape\n",
    "        # y = tf.reshape(y, yhat.shape)"
   ]
  },
  {
   "cell_type": "markdown",
   "id": "98b1cd55-0bac-4dbe-b11f-08b0bc3cece9",
   "metadata": {},
   "source": [
    "## 5.5 Train the model"
   ]
  },
  {
   "cell_type": "code",
   "execution_count": 91,
   "id": "f3c84e24-9e4b-4374-b1ed-e8863cc21a4b",
   "metadata": {},
   "outputs": [],
   "source": [
    "EPOCHS = 10"
   ]
  },
  {
   "cell_type": "code",
   "execution_count": 92,
   "id": "e63b5f0b-383c-4b49-aace-467ed15d5094",
   "metadata": {},
   "outputs": [
    {
     "name": "stdout",
     "output_type": "stream",
     "text": [
      "\n",
      " Epoch 1/10\n",
      "Tensor(\"binary_crossentropy/truediv:0\", shape=(), dtype=float32)\n",
      "Tensor(\"binary_crossentropy/truediv:0\", shape=(), dtype=float32)\n",
      "\u001b[1m26/27\u001b[0m \u001b[32m━━━━━━━━━━━━━━━━━━━\u001b[0m\u001b[37m━\u001b[0m \u001b[1m0s\u001b[0m 965ms/stepTensor(\"binary_crossentropy/truediv:0\", shape=(), dtype=float32)\n",
      "\u001b[1m27/27\u001b[0m \u001b[32m━━━━━━━━━━━━━━━━━━━━\u001b[0m\u001b[37m\u001b[0m \u001b[1m29s\u001b[0m 990ms/step\n",
      "\n",
      " Epoch 2/10\n",
      "\u001b[1m27/27\u001b[0m \u001b[32m━━━━━━━━━━━━━━━━━━━━\u001b[0m\u001b[37m\u001b[0m \u001b[1m25s\u001b[0m 930ms/step\n",
      "\n",
      " Epoch 3/10\n",
      "\u001b[1m27/27\u001b[0m \u001b[32m━━━━━━━━━━━━━━━━━━━━\u001b[0m\u001b[37m\u001b[0m \u001b[1m27s\u001b[0m 995ms/step\n",
      "\n",
      " Epoch 4/10\n",
      "\u001b[1m27/27\u001b[0m \u001b[32m━━━━━━━━━━━━━━━━━━━━\u001b[0m\u001b[37m\u001b[0m \u001b[1m26s\u001b[0m 981ms/step\n",
      "\n",
      " Epoch 5/10\n",
      "\u001b[1m27/27\u001b[0m \u001b[32m━━━━━━━━━━━━━━━━━━━━\u001b[0m\u001b[37m\u001b[0m \u001b[1m26s\u001b[0m 977ms/step\n",
      "\n",
      " Epoch 6/10\n",
      "\u001b[1m27/27\u001b[0m \u001b[32m━━━━━━━━━━━━━━━━━━━━\u001b[0m\u001b[37m\u001b[0m \u001b[1m26s\u001b[0m 972ms/step\n",
      "\n",
      " Epoch 7/10\n",
      "\u001b[1m27/27\u001b[0m \u001b[32m━━━━━━━━━━━━━━━━━━━━\u001b[0m\u001b[37m\u001b[0m \u001b[1m26s\u001b[0m 981ms/step\n",
      "\n",
      " Epoch 8/10\n",
      "\u001b[1m27/27\u001b[0m \u001b[32m━━━━━━━━━━━━━━━━━━━━\u001b[0m\u001b[37m\u001b[0m \u001b[1m27s\u001b[0m 986ms/step\n",
      "\n",
      " Epoch 9/10\n",
      "\u001b[1m27/27\u001b[0m \u001b[32m━━━━━━━━━━━━━━━━━━━━\u001b[0m\u001b[37m\u001b[0m \u001b[1m26s\u001b[0m 974ms/step\n",
      "\n",
      " Epoch 10/10\n",
      "\u001b[1m27/27\u001b[0m \u001b[32m━━━━━━━━━━━━━━━━━━━━\u001b[0m\u001b[37m\u001b[0m \u001b[1m27s\u001b[0m 978ms/step\n"
     ]
    }
   ],
   "source": [
    "train(train_data,EPOCHS)"
   ]
  },
  {
   "cell_type": "markdown",
   "id": "6fcb95f1-7b74-4fba-acbc-1a1207d6ccc2",
   "metadata": {},
   "source": [
    "# 6. Evaluate Model"
   ]
  },
  {
   "cell_type": "code",
   "execution_count": 93,
   "id": "a95de50d-5bc9-4d6d-815f-fb82b5a3c66d",
   "metadata": {},
   "outputs": [],
   "source": [
    "#import metric calculation\n",
    "from tensorflow.keras.metrics import Precision,Recall"
   ]
  },
  {
   "cell_type": "code",
   "execution_count": 94,
   "id": "d64bef44-e5b0-4fd2-9f91-f77e12fe550b",
   "metadata": {},
   "outputs": [],
   "source": [
    "#Get a batch of test data\n",
    "test_input,test_val,y_label = test_data.as_numpy_iterator().next()"
   ]
  },
  {
   "cell_type": "code",
   "execution_count": 95,
   "id": "66d66659-fe9a-4207-b092-d74c307774fc",
   "metadata": {},
   "outputs": [
    {
     "name": "stdout",
     "output_type": "stream",
     "text": [
      "\u001b[1m1/1\u001b[0m \u001b[32m━━━━━━━━━━━━━━━━━━━━\u001b[0m\u001b[37m\u001b[0m \u001b[1m0s\u001b[0m 407ms/step\n"
     ]
    },
    {
     "data": {
      "text/plain": [
       "<tf.Tensor: shape=(16, 1), dtype=float32, numpy=\n",
       "array([[9.7883832e-01],\n",
       "       [9.9941707e-01],\n",
       "       [9.9994421e-01],\n",
       "       [2.1179182e-10],\n",
       "       [1.7761388e-06],\n",
       "       [1.4173615e-04],\n",
       "       [9.8118824e-01],\n",
       "       [9.9999857e-01],\n",
       "       [1.2923637e-09],\n",
       "       [2.5268737e-04],\n",
       "       [9.9800205e-01],\n",
       "       [9.9896562e-01],\n",
       "       [9.9964166e-01],\n",
       "       [9.9990445e-01],\n",
       "       [9.9980736e-01],\n",
       "       [9.9958044e-01]], dtype=float32)>"
      ]
     },
     "execution_count": 95,
     "metadata": {},
     "output_type": "execute_result"
    }
   ],
   "source": [
    "# Make Predictions\n",
    "\n",
    "y_hat = siamese_model.predict([test_input,test_val])\n",
    "y_hat = tf.reshape(y_hat,shape = (16,1))\n",
    "y_hat"
   ]
  },
  {
   "cell_type": "code",
   "execution_count": 96,
   "id": "96cd6f74-e4d7-435b-871a-90f037277d01",
   "metadata": {},
   "outputs": [
    {
     "name": "stdout",
     "output_type": "stream",
     "text": [
      "[1, 1, 1, 0, 0, 0, 1, 1, 0, 0, 1, 1, 1, 1, 1, 1]\n"
     ]
    }
   ],
   "source": [
    "# post processing the results\n",
    "res = []\n",
    "for prediction in y_hat:\n",
    "    if prediction > 0.5:\n",
    "        res.append(1)\n",
    "    else:\n",
    "        res.append(0)\n",
    "print(res)"
   ]
  },
  {
   "cell_type": "code",
   "execution_count": 97,
   "id": "99727506-bee7-4971-bd2f-e3b010fa0a72",
   "metadata": {},
   "outputs": [
    {
     "data": {
      "text/plain": [
       "array([1., 1., 1., 0., 0., 0., 1., 1., 0., 0., 1., 1., 1., 1., 1., 1.],\n",
       "      dtype=float32)"
      ]
     },
     "execution_count": 97,
     "metadata": {},
     "output_type": "execute_result"
    }
   ],
   "source": [
    "y_label"
   ]
  },
  {
   "cell_type": "markdown",
   "id": "43a079e4-6666-41af-bf55-eff34553c8db",
   "metadata": {},
   "source": [
    "## 6.3 Calculate Metrics"
   ]
  },
  {
   "cell_type": "code",
   "execution_count": 98,
   "id": "e8e72bf4-b36e-4e12-a8d2-9b3ef2bc1a3c",
   "metadata": {},
   "outputs": [
    {
     "data": {
      "text/plain": [
       "1.0"
      ]
     },
     "execution_count": 98,
     "metadata": {},
     "output_type": "execute_result"
    }
   ],
   "source": [
    "# Creating a metric object (Recall)\n",
    "m = Recall()\n",
    "# Calculating Recall Value\n",
    "m.update_state(y_label,y_hat)\n",
    "\n",
    "#Return Recall result\n",
    "m.result().numpy()"
   ]
  },
  {
   "cell_type": "code",
   "execution_count": 99,
   "id": "b007c438-bb2f-4d23-b152-c874f30ffb72",
   "metadata": {},
   "outputs": [
    {
     "data": {
      "text/plain": [
       "1.0"
      ]
     },
     "execution_count": 99,
     "metadata": {},
     "output_type": "execute_result"
    }
   ],
   "source": [
    "# Creating a metric object (Precision)\n",
    "m = Precision()\n",
    "\n",
    "# Calculating Precision value\n",
    "m.update_state(y_label,y_hat)\n",
    "\n",
    "m.result().numpy()"
   ]
  },
  {
   "cell_type": "markdown",
   "id": "8f65fe75-111b-4ec6-b907-bdc4b8603b18",
   "metadata": {},
   "source": [
    "## 6.4 Visualise Results"
   ]
  },
  {
   "cell_type": "code",
   "execution_count": 100,
   "id": "4f08c1c6-5e4a-4e88-94ad-7a4a6099ab3f",
   "metadata": {},
   "outputs": [
    {
     "data": {
      "image/png": "[encoded data removed]",
      "text/plain": [
       "<Figure size 500x200 with 2 Axes>"
      ]
     },
     "metadata": {},
     "output_type": "display_data"
    }
   ],
   "source": [
    "# Set plot size\n",
    "plt.figure(figsize=(5,2))\n",
    "\n",
    "# Divide the plot into 2 parts and give 1 column to each\n",
    "plt.subplot(1,2,1)\n",
    "# Show the input image\n",
    "plt.imshow(test_input[4])\n",
    "\n",
    "# Set the subplot for the 2nd column\n",
    "plt.subplot(1,2,2)\n",
    "\n",
    "# show the image\n",
    "plt.imshow(test_val[4])\n",
    "\n",
    "# THis is to finally show the whole figure\n",
    "plt.show()"
   ]
  },
  {
   "cell_type": "markdown",
   "id": "62429669-382a-4aab-a1f8-4b071f7f12a8",
   "metadata": {},
   "source": [
    "# 7. Save the Model"
   ]
  },
  {
   "cell_type": "code",
   "execution_count": 101,
   "id": "0c97509e-b3eb-4ae8-bb5a-99f7020343e4",
   "metadata": {},
   "outputs": [],
   "source": [
    "# Save weights\n",
    "siamese_model.save('siamesemodel.keras')"
   ]
  },
  {
   "cell_type": "code",
   "execution_count": 102,
   "id": "fe91442f-6138-43d4-a5dc-dc51f71c6a5c",
   "metadata": {},
   "outputs": [],
   "source": [
    "# Reload Model\n",
    "\n",
    "model = tf.keras.models.load_model('siamesemodel.keras',custom_objects = {'L1Dist':L1Dist, 'BinaryCrossentropy':tf.losses.BinaryCrossentropy})"
   ]
  },
  {
   "cell_type": "code",
   "execution_count": 103,
   "id": "18501f79-b7f1-473f-a9ff-c20da2c3b266",
   "metadata": {},
   "outputs": [
    {
     "name": "stdout",
     "output_type": "stream",
     "text": [
      "\u001b[1m1/1\u001b[0m \u001b[32m━━━━━━━━━━━━━━━━━━━━\u001b[0m\u001b[37m\u001b[0m \u001b[1m0s\u001b[0m 401ms/step\n"
     ]
    },
    {
     "data": {
      "text/plain": [
       "array([[[9.7883832e-01],\n",
       "        [9.9941707e-01],\n",
       "        [9.9994421e-01],\n",
       "        [2.1179182e-10],\n",
       "        [1.7761388e-06],\n",
       "        [1.4173615e-04],\n",
       "        [9.8118824e-01],\n",
       "        [9.9999857e-01],\n",
       "        [1.2923637e-09],\n",
       "        [2.5268737e-04],\n",
       "        [9.9800205e-01],\n",
       "        [9.9896562e-01],\n",
       "        [9.9964166e-01],\n",
       "        [9.9990445e-01],\n",
       "        [9.9980736e-01],\n",
       "        [9.9958044e-01]]], dtype=float32)"
      ]
     },
     "execution_count": 103,
     "metadata": {},
     "output_type": "execute_result"
    }
   ],
   "source": [
    "model.predict([test_input,test_val])"
   ]
  },
  {
   "cell_type": "code",
   "execution_count": 104,
   "id": "183d4792-8b1a-4a32-8b12-1797823d71b1",
   "metadata": {},
   "outputs": [
    {
     "data": {
      "text/html": [
       "<pre style=\"white-space:pre;overflow-x:auto;line-height:normal;font-family:Menlo,'DejaVu Sans Mono',consolas,'Courier New',monospace\"><span style=\"font-weight: bold\">Model: \"SiameseNetwork\"</span>\n",
       "</pre>\n"
      ],
      "text/plain": [
       "\u001b[1mModel: \"SiameseNetwork\"\u001b[0m\n"
      ]
     },
     "metadata": {},
     "output_type": "display_data"
    },
    {
     "data": {
      "text/html": [
       "<pre style=\"white-space:pre;overflow-x:auto;line-height:normal;font-family:Menlo,'DejaVu Sans Mono',consolas,'Courier New',monospace\">┏━━━━━━━━━━━━━━━━━━━━━┳━━━━━━━━━━━━━━━━━━━┳━━━━━━━━━━━━┳━━━━━━━━━━━━━━━━━━━┓\n",
       "┃<span style=\"font-weight: bold\"> Layer (type)        </span>┃<span style=\"font-weight: bold\"> Output Shape      </span>┃<span style=\"font-weight: bold\">    Param # </span>┃<span style=\"font-weight: bold\"> Connected to      </span>┃\n",
       "┡━━━━━━━━━━━━━━━━━━━━━╇━━━━━━━━━━━━━━━━━━━╇━━━━━━━━━━━━╇━━━━━━━━━━━━━━━━━━━┩\n",
       "│ input_img           │ (<span style=\"color: #00d7ff; text-decoration-color: #00d7ff\">None</span>, <span style=\"color: #00af00; text-decoration-color: #00af00\">100</span>, <span style=\"color: #00af00; text-decoration-color: #00af00\">100</span>,  │          <span style=\"color: #00af00; text-decoration-color: #00af00\">0</span> │ -                 │\n",
       "│ (<span style=\"color: #0087ff; text-decoration-color: #0087ff\">InputLayer</span>)        │ <span style=\"color: #00af00; text-decoration-color: #00af00\">3</span>)                │            │                   │\n",
       "├─────────────────────┼───────────────────┼────────────┼───────────────────┤\n",
       "│ validation_img      │ (<span style=\"color: #00d7ff; text-decoration-color: #00d7ff\">None</span>, <span style=\"color: #00af00; text-decoration-color: #00af00\">100</span>, <span style=\"color: #00af00; text-decoration-color: #00af00\">100</span>,  │          <span style=\"color: #00af00; text-decoration-color: #00af00\">0</span> │ -                 │\n",
       "│ (<span style=\"color: #0087ff; text-decoration-color: #0087ff\">InputLayer</span>)        │ <span style=\"color: #00af00; text-decoration-color: #00af00\">3</span>)                │            │                   │\n",
       "├─────────────────────┼───────────────────┼────────────┼───────────────────┤\n",
       "│ embedding           │ (<span style=\"color: #00d7ff; text-decoration-color: #00d7ff\">None</span>, <span style=\"color: #00af00; text-decoration-color: #00af00\">4096</span>)      │ <span style=\"color: #00af00; text-decoration-color: #00af00\">38,960,448</span> │ input_img[<span style=\"color: #00af00; text-decoration-color: #00af00\">0</span>][<span style=\"color: #00af00; text-decoration-color: #00af00\">0</span>],  │\n",
       "│ (<span style=\"color: #0087ff; text-decoration-color: #0087ff\">Functional</span>)        │                   │            │ validation_img[<span style=\"color: #00af00; text-decoration-color: #00af00\">0</span>… │\n",
       "├─────────────────────┼───────────────────┼────────────┼───────────────────┤\n",
       "│ l1_dist_6 (<span style=\"color: #0087ff; text-decoration-color: #0087ff\">L1Dist</span>)  │ (<span style=\"color: #00af00; text-decoration-color: #00af00\">1</span>, <span style=\"color: #00d7ff; text-decoration-color: #00d7ff\">None</span>, <span style=\"color: #00af00; text-decoration-color: #00af00\">4096</span>)   │          <span style=\"color: #00af00; text-decoration-color: #00af00\">0</span> │ embedding[<span style=\"color: #00af00; text-decoration-color: #00af00\">0</span>][<span style=\"color: #00af00; text-decoration-color: #00af00\">0</span>],  │\n",
       "│                     │                   │            │ embedding[<span style=\"color: #00af00; text-decoration-color: #00af00\">1</span>][<span style=\"color: #00af00; text-decoration-color: #00af00\">0</span>]   │\n",
       "├─────────────────────┼───────────────────┼────────────┼───────────────────┤\n",
       "│ dense_7 (<span style=\"color: #0087ff; text-decoration-color: #0087ff\">Dense</span>)     │ (<span style=\"color: #00af00; text-decoration-color: #00af00\">1</span>, <span style=\"color: #00d7ff; text-decoration-color: #00d7ff\">None</span>, <span style=\"color: #00af00; text-decoration-color: #00af00\">1</span>)      │      <span style=\"color: #00af00; text-decoration-color: #00af00\">4,097</span> │ l1_dist_6[<span style=\"color: #00af00; text-decoration-color: #00af00\">0</span>][<span style=\"color: #00af00; text-decoration-color: #00af00\">0</span>]   │\n",
       "└─────────────────────┴───────────────────┴────────────┴───────────────────┘\n",
       "</pre>\n"
      ],
      "text/plain": [
       "┏━━━━━━━━━━━━━━━━━━━━━┳━━━━━━━━━━━━━━━━━━━┳━━━━━━━━━━━━┳━━━━━━━━━━━━━━━━━━━┓\n",
       "┃\u001b[1m \u001b[0m\u001b[1mLayer (type)       \u001b[0m\u001b[1m \u001b[0m┃\u001b[1m \u001b[0m\u001b[1mOutput Shape     \u001b[0m\u001b[1m \u001b[0m┃\u001b[1m \u001b[0m\u001b[1m   Param #\u001b[0m\u001b[1m \u001b[0m┃\u001b[1m \u001b[0m\u001b[1mConnected to     \u001b[0m\u001b[1m \u001b[0m┃\n",
       "┡━━━━━━━━━━━━━━━━━━━━━╇━━━━━━━━━━━━━━━━━━━╇━━━━━━━━━━━━╇━━━━━━━━━━━━━━━━━━━┩\n",
       "│ input_img           │ (\u001b[38;5;45mNone\u001b[0m, \u001b[38;5;34m100\u001b[0m, \u001b[38;5;34m100\u001b[0m,  │          \u001b[38;5;34m0\u001b[0m │ -                 │\n",
       "│ (\u001b[38;5;33mInputLayer\u001b[0m)        │ \u001b[38;5;34m3\u001b[0m)                │            │                   │\n",
       "├─────────────────────┼───────────────────┼────────────┼───────────────────┤\n",
       "│ validation_img      │ (\u001b[38;5;45mNone\u001b[0m, \u001b[38;5;34m100\u001b[0m, \u001b[38;5;34m100\u001b[0m,  │          \u001b[38;5;34m0\u001b[0m │ -                 │\n",
       "│ (\u001b[38;5;33mInputLayer\u001b[0m)        │ \u001b[38;5;34m3\u001b[0m)                │            │                   │\n",
       "├─────────────────────┼───────────────────┼────────────┼───────────────────┤\n",
       "│ embedding           │ (\u001b[38;5;45mNone\u001b[0m, \u001b[38;5;34m4096\u001b[0m)      │ \u001b[38;5;34m38,960,448\u001b[0m │ input_img[\u001b[38;5;34m0\u001b[0m][\u001b[38;5;34m0\u001b[0m],  │\n",
       "│ (\u001b[38;5;33mFunctional\u001b[0m)        │                   │            │ validation_img[\u001b[38;5;34m0\u001b[0m… │\n",
       "├─────────────────────┼───────────────────┼────────────┼───────────────────┤\n",
       "│ l1_dist_6 (\u001b[38;5;33mL1Dist\u001b[0m)  │ (\u001b[38;5;34m1\u001b[0m, \u001b[38;5;45mNone\u001b[0m, \u001b[38;5;34m4096\u001b[0m)   │          \u001b[38;5;34m0\u001b[0m │ embedding[\u001b[38;5;34m0\u001b[0m][\u001b[38;5;34m0\u001b[0m],  │\n",
       "│                     │                   │            │ embedding[\u001b[38;5;34m1\u001b[0m][\u001b[38;5;34m0\u001b[0m]   │\n",
       "├─────────────────────┼───────────────────┼────────────┼───────────────────┤\n",
       "│ dense_7 (\u001b[38;5;33mDense\u001b[0m)     │ (\u001b[38;5;34m1\u001b[0m, \u001b[38;5;45mNone\u001b[0m, \u001b[38;5;34m1\u001b[0m)      │      \u001b[38;5;34m4,097\u001b[0m │ l1_dist_6[\u001b[38;5;34m0\u001b[0m][\u001b[38;5;34m0\u001b[0m]   │\n",
       "└─────────────────────┴───────────────────┴────────────┴───────────────────┘\n"
      ]
     },
     "metadata": {},
     "output_type": "display_data"
    },
    {
     "data": {
      "text/html": [
       "<pre style=\"white-space:pre;overflow-x:auto;line-height:normal;font-family:Menlo,'DejaVu Sans Mono',consolas,'Courier New',monospace\"><span style=\"font-weight: bold\"> Total params: </span><span style=\"color: #00af00; text-decoration-color: #00af00\">38,964,545</span> (148.64 MB)\n",
       "</pre>\n"
      ],
      "text/plain": [
       "\u001b[1m Total params: \u001b[0m\u001b[38;5;34m38,964,545\u001b[0m (148.64 MB)\n"
      ]
     },
     "metadata": {},
     "output_type": "display_data"
    },
    {
     "data": {
      "text/html": [
       "<pre style=\"white-space:pre;overflow-x:auto;line-height:normal;font-family:Menlo,'DejaVu Sans Mono',consolas,'Courier New',monospace\"><span style=\"font-weight: bold\"> Trainable params: </span><span style=\"color: #00af00; text-decoration-color: #00af00\">38,964,545</span> (148.64 MB)\n",
       "</pre>\n"
      ],
      "text/plain": [
       "\u001b[1m Trainable params: \u001b[0m\u001b[38;5;34m38,964,545\u001b[0m (148.64 MB)\n"
      ]
     },
     "metadata": {},
     "output_type": "display_data"
    },
    {
     "data": {
      "text/html": [
       "<pre style=\"white-space:pre;overflow-x:auto;line-height:normal;font-family:Menlo,'DejaVu Sans Mono',consolas,'Courier New',monospace\"><span style=\"font-weight: bold\"> Non-trainable params: </span><span style=\"color: #00af00; text-decoration-color: #00af00\">0</span> (0.00 B)\n",
       "</pre>\n"
      ],
      "text/plain": [
       "\u001b[1m Non-trainable params: \u001b[0m\u001b[38;5;34m0\u001b[0m (0.00 B)\n"
      ]
     },
     "metadata": {},
     "output_type": "display_data"
    }
   ],
   "source": [
    "model.summary()"
   ]
  },
  {
   "cell_type": "markdown",
   "id": "79329014-e8c7-42c8-9b24-4912787a9a01",
   "metadata": {},
   "source": [
    "# 8. Real time test"
   ]
  },
  {
   "cell_type": "markdown",
   "id": "f9f7c27c-9d67-42be-b68e-e55f17fa3f7d",
   "metadata": {},
   "source": [
    "## 8.1 Verification Function"
   ]
  },
  {
   "cell_type": "code",
   "execution_count": 105,
   "id": "ea3eb5b8-4790-4591-b08c-0284c740ac4a",
   "metadata": {},
   "outputs": [],
   "source": [
    "def verify(model,detection_threshold,verification_threshold):\n",
    "    # Detection_threshold: Mteric above which a prediction is considered positive\n",
    "    # Verification_threshold: Proporation of positive prediction / total positive samples\n",
    "    results=[]\n",
    "    for image in os.listdir(os.path.join('application_data','verification_images')):\n",
    "        input_img = preprocess(os.path.join('application_data','input_images','input_img.jpg'))\n",
    "        verification_img = preprocess(os.path.join('application_data','verification_images',image))\n",
    "\n",
    "        result = model.predict(list(np.expand_dims([input_img,verification_img],axis=1)))\n",
    "        results.append(result)\n",
    "    detection = np.sum(np.array(results)>detection_threshold)\n",
    "    verification = detection / len(os.listdir(os.path.join('application_data','verification_images')))\n",
    "    verified = verification > verification_threshold\n",
    "    return results,verified\n",
    "        \n",
    "    "
   ]
  },
  {
   "cell_type": "markdown",
   "id": "2240d8b2-653e-47b9-aaf9-1cceb31b559c",
   "metadata": {},
   "source": [
    "## 8.2 Open CV Real Time verification"
   ]
  },
  {
   "cell_type": "code",
   "execution_count": 66,
   "id": "5c1bbc28-db4a-40ef-8d84-943af5e741cc",
   "metadata": {},
   "outputs": [
    {
     "ename": "TypeError",
     "evalue": "expand_dims() missing 1 required positional argument: 'axis'",
     "output_type": "error",
     "traceback": [
      "\u001b[1;31m---------------------------------------------------------------------------\u001b[0m",
      "\u001b[1;31mTypeError\u001b[0m                                 Traceback (most recent call last)",
      "Cell \u001b[1;32mIn[66], line 13\u001b[0m\n\u001b[0;32m     11\u001b[0m     cv2\u001b[38;5;241m.\u001b[39mimwrite(os\u001b[38;5;241m.\u001b[39mpath\u001b[38;5;241m.\u001b[39mjoin(\u001b[38;5;124m'\u001b[39m\u001b[38;5;124mapplication_data\u001b[39m\u001b[38;5;124m'\u001b[39m, \u001b[38;5;124m'\u001b[39m\u001b[38;5;124minput_images\u001b[39m\u001b[38;5;124m'\u001b[39m, \u001b[38;5;124m'\u001b[39m\u001b[38;5;124minput_img.jpg\u001b[39m\u001b[38;5;124m'\u001b[39m), frame)\n\u001b[0;32m     12\u001b[0m     \u001b[38;5;66;03m# # Run verification\u001b[39;00m\n\u001b[1;32m---> 13\u001b[0m     results, verified \u001b[38;5;241m=\u001b[39m verify(model, \u001b[38;5;241m0.9\u001b[39m, \u001b[38;5;241m0.7\u001b[39m)\n\u001b[0;32m     14\u001b[0m     \u001b[38;5;28mprint\u001b[39m(verified)\n\u001b[0;32m     16\u001b[0m \u001b[38;5;28;01mif\u001b[39;00m cv2\u001b[38;5;241m.\u001b[39mwaitKey(\u001b[38;5;241m10\u001b[39m) \u001b[38;5;241m&\u001b[39m \u001b[38;5;241m0xFF\u001b[39m \u001b[38;5;241m==\u001b[39m \u001b[38;5;28mord\u001b[39m(\u001b[38;5;124m'\u001b[39m\u001b[38;5;124mq\u001b[39m\u001b[38;5;124m'\u001b[39m):\n",
      "Cell \u001b[1;32mIn[65], line 9\u001b[0m, in \u001b[0;36mverify\u001b[1;34m(model, detection_threshold, verification_threshold)\u001b[0m\n\u001b[0;32m      6\u001b[0m     input_img \u001b[38;5;241m=\u001b[39m preprocess(os\u001b[38;5;241m.\u001b[39mpath\u001b[38;5;241m.\u001b[39mjoin(\u001b[38;5;124m'\u001b[39m\u001b[38;5;124mapplication_data\u001b[39m\u001b[38;5;124m'\u001b[39m,\u001b[38;5;124m'\u001b[39m\u001b[38;5;124minput_images\u001b[39m\u001b[38;5;124m'\u001b[39m,\u001b[38;5;124m'\u001b[39m\u001b[38;5;124minput_img.jpg\u001b[39m\u001b[38;5;124m'\u001b[39m))\n\u001b[0;32m      7\u001b[0m     verification_img \u001b[38;5;241m=\u001b[39m preprocess(os\u001b[38;5;241m.\u001b[39mpath\u001b[38;5;241m.\u001b[39mjoin(\u001b[38;5;124m'\u001b[39m\u001b[38;5;124mapplication_data\u001b[39m\u001b[38;5;124m'\u001b[39m,\u001b[38;5;124m'\u001b[39m\u001b[38;5;124mverification_images\u001b[39m\u001b[38;5;124m'\u001b[39m,image))\n\u001b[1;32m----> 9\u001b[0m     result \u001b[38;5;241m=\u001b[39m model\u001b[38;5;241m.\u001b[39mpredict(\u001b[38;5;28mlist\u001b[39m(np\u001b[38;5;241m.\u001b[39mexpand_dims([input_img,verification_img])))\n\u001b[0;32m     10\u001b[0m     results\u001b[38;5;241m.\u001b[39mappend(result)\n\u001b[0;32m     11\u001b[0m detection \u001b[38;5;241m=\u001b[39m np\u001b[38;5;241m.\u001b[39msum(np\u001b[38;5;241m.\u001b[39marray(results)\u001b[38;5;241m>\u001b[39mdetection_threshold)\n",
      "\u001b[1;31mTypeError\u001b[0m: expand_dims() missing 1 required positional argument: 'axis'"
     ]
    }
   ],
   "source": [
    "cap = cv2.VideoCapture(0)\n",
    "while cap.isOpened():\n",
    "    ret, frame = cap.read()\n",
    "    frame = frame[120:120+250,200:200+250, :]\n",
    "    \n",
    "    cv2.imshow('Verification', frame)\n",
    "    \n",
    "    # Verification trigger\n",
    "    if cv2.waitKey(10) & 0xFF == ord('v'):\n",
    "        # Save input image to application_data/input_image folder \n",
    "        cv2.imwrite(os.path.join('application_data', 'input_images', 'input_img.jpg'), frame)\n",
    "        # # Run verification\n",
    "        results, verified = verify(model, 0.9, 0.7)\n",
    "        print(verified)\n",
    "    \n",
    "    if cv2.waitKey(10) & 0xFF == ord('q'):\n",
    "        break\n",
    "cap.release()\n",
    "cv2.destroyAllWindows()"
   ]
  },
  {
   "cell_type": "code",
   "execution_count": null,
   "id": "876713ff-a67f-4ff7-bfa2-a3f34a13b075",
   "metadata": {},
   "outputs": [],
   "source": []
  }
 ],
 "metadata": {
  "kernelspec": {
   "display_name": "Python 3 (ipykernel)",
   "language": "python",
   "name": "python3"
  },
  "language_info": {
   "codemirror_mode": {
    "name": "ipython",
    "version": 3
   },
   "file_extension": ".py",
   "mimetype": "text/x-python",
   "name": "python",
   "nbconvert_exporter": "python",
   "pygments_lexer": "ipython3",
   "version": "3.11.7"
  }
 },
 "nbformat": 4,
 "nbformat_minor": 5
}
